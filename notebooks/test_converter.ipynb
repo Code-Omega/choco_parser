{
 "cells": [
  {
   "cell_type": "markdown",
   "source": [
    "# Converter-Test: test of the Converters Module"
   ],
   "metadata": {
    "collapsed": false,
    "pycharm": {
     "name": "#%% md\n"
    }
   }
  },
  {
   "cell_type": "code",
   "execution_count": 14,
   "metadata": {
    "collapsed": true,
    "pycharm": {
     "name": "#%%\n"
    }
   },
   "outputs": [],
   "source": [
    "import os\n",
    "import sys\n",
    "import glob\n",
    "\n",
    "import pandas as pd\n",
    "import matplotlib.pyplot as plt\n",
    "import seaborn as sns\n",
    "\n",
    "from pathlib import Path\n",
    "\n",
    "RESULTS_PATH = Path('../choco/converters/validation/results')\n",
    "\n",
    "sys.path.append(os.path.join(os.path.dirname(os.getcwd()), 'choco'))"
   ]
  },
  {
   "cell_type": "code",
   "execution_count": 15,
   "outputs": [],
   "source": [
    "def open_results(results_path: str) -> None:\n",
    "    pass"
   ],
   "metadata": {
    "collapsed": false,
    "pycharm": {
     "name": "#%%\n"
    }
   }
  },
  {
   "cell_type": "markdown",
   "source": [
    "### Process results folder"
   ],
   "metadata": {
    "collapsed": false,
    "pycharm": {
     "name": "#%% md\n"
    }
   }
  },
  {
   "cell_type": "code",
   "execution_count": 88,
   "outputs": [
    {
     "name": "stdout",
     "output_type": "stream",
     "text": [
      "Found 10 biased evaluation files:\n",
      " ['wikifonia_1194', 'wikifonia_1047', 'rock-corpus_4', 'rock-corpus_16', 'ireal-pro_914', 'ireal-pro_542', 'weimar_8', 'weimar_263', 'when-in-rome_109', 'when-in-rome_406']\n",
      "\n",
      "Found 10 unbiased evaluation files:\n",
      " ['wikifonia_3442', 'wikifonia_4327', 'rock-corpus_34', 'rock-corpus_183', 'ireal-pro_558', 'ireal-pro_1103', 'weimar_433', 'weimar_279', 'when-in-rome_205', 'when-in-rome_61']\n",
      "\n"
     ]
    }
   ],
   "source": [
    "converters_group = {\n",
    "    'wikifonia': 'leadsheet',\n",
    "    'ireal-pro': 'leadsheet',\n",
    "    'weimar': 'leadsheet',\n",
    "    'nottingham': 'leadsheet',\n",
    "    'when-in-rome': 'roman',\n",
    "    'rock-corpus': 'roman',\n",
    "    'jazz-corpus': 'leadsheet',\n",
    "    'band-in-a-box': 'prettify-harte',\n",
    "    'mozart-piano-sonatas': 'roman',\n",
    "}\n",
    "\n",
    "biased_paths = [p for p in RESULTS_PATH.rglob('s2-0[1-2]/**/*.xlsx')]\n",
    "unbiased_paths = [p for p in RESULTS_PATH.rglob('s2-0[3-4]/**/*.xlsx')]\n",
    "\n",
    "print(f'Found {len(biased_paths)} biased evaluation files:\\n {[x.stem for x in biased_paths]}\\n')\n",
    "print(f'Found {len(unbiased_paths)} unbiased evaluation files:\\n {[x.stem for x in unbiased_paths]}\\n')"
   ],
   "metadata": {
    "collapsed": false,
    "pycharm": {
     "name": "#%%\n"
    }
   }
  },
  {
   "cell_type": "code",
   "execution_count": 89,
   "outputs": [
    {
     "data": {
      "text/plain": "     type  time  duration     original converted  correct?  \\\n1   chord   4.0       3.0       B-7/E-    Bb:7/4       1.0   \n2   chord   8.0       2.0           E-    Eb:maj       1.0   \n3   chord   8.2       1.0          E-7      Eb:7       1.0   \n4   chord   9.0       3.0        A-/E-  Ab:maj/5       0.0   \n5   chord  10.0       3.0           E-    Eb:maj       1.0   \n..    ...   ...       ...          ...       ...       ...   \n15  chord  13.1       2.0  C major:I64   G:maj/5       0.0   \n16  chord  14.1       2.0   C major:V7       G:7       1.0   \n17  chord  15.1       2.0  C major:I64   G:maj/5       0.0   \n18  chord  16.1       2.0    C major:V     G:maj       1.0   \n19  chord  17.1       2.0    C major:I     C:maj       1.0   \n\n                                                notes     partition  \\\n1                                                 NaN     wikifonia   \n2                                                 NaN     wikifonia   \n3                                                 NaN     wikifonia   \n4   I don't understand this one, Ab major always h...     wikifonia   \n5                                                 NaN     wikifonia   \n..                                                ...           ...   \n15                                          C maj / 5  when-in-rome   \n16                                                NaN  when-in-rome   \n17                                          C maj / 5  when-in-rome   \n18                                                NaN  when-in-rome   \n19                                                NaN  when-in-rome   \n\n    converter Unnamed: 7  \n1   leadsheet        NaN  \n2   leadsheet        NaN  \n3   leadsheet        NaN  \n4   leadsheet        NaN  \n5   leadsheet        NaN  \n..        ...        ...  \n15      roman        NaN  \n16      roman        NaN  \n17      roman        NaN  \n18      roman        NaN  \n19      roman        NaN  \n\n[100 rows x 10 columns]",
      "text/html": "<div>\n<style scoped>\n    .dataframe tbody tr th:only-of-type {\n        vertical-align: middle;\n    }\n\n    .dataframe tbody tr th {\n        vertical-align: top;\n    }\n\n    .dataframe thead th {\n        text-align: right;\n    }\n</style>\n<table border=\"1\" class=\"dataframe\">\n  <thead>\n    <tr style=\"text-align: right;\">\n      <th></th>\n      <th>type</th>\n      <th>time</th>\n      <th>duration</th>\n      <th>original</th>\n      <th>converted</th>\n      <th>correct?</th>\n      <th>notes</th>\n      <th>partition</th>\n      <th>converter</th>\n      <th>Unnamed: 7</th>\n    </tr>\n  </thead>\n  <tbody>\n    <tr>\n      <th>1</th>\n      <td>chord</td>\n      <td>4.0</td>\n      <td>3.0</td>\n      <td>B-7/E-</td>\n      <td>Bb:7/4</td>\n      <td>1.0</td>\n      <td>NaN</td>\n      <td>wikifonia</td>\n      <td>leadsheet</td>\n      <td>NaN</td>\n    </tr>\n    <tr>\n      <th>2</th>\n      <td>chord</td>\n      <td>8.0</td>\n      <td>2.0</td>\n      <td>E-</td>\n      <td>Eb:maj</td>\n      <td>1.0</td>\n      <td>NaN</td>\n      <td>wikifonia</td>\n      <td>leadsheet</td>\n      <td>NaN</td>\n    </tr>\n    <tr>\n      <th>3</th>\n      <td>chord</td>\n      <td>8.2</td>\n      <td>1.0</td>\n      <td>E-7</td>\n      <td>Eb:7</td>\n      <td>1.0</td>\n      <td>NaN</td>\n      <td>wikifonia</td>\n      <td>leadsheet</td>\n      <td>NaN</td>\n    </tr>\n    <tr>\n      <th>4</th>\n      <td>chord</td>\n      <td>9.0</td>\n      <td>3.0</td>\n      <td>A-/E-</td>\n      <td>Ab:maj/5</td>\n      <td>0.0</td>\n      <td>I don't understand this one, Ab major always h...</td>\n      <td>wikifonia</td>\n      <td>leadsheet</td>\n      <td>NaN</td>\n    </tr>\n    <tr>\n      <th>5</th>\n      <td>chord</td>\n      <td>10.0</td>\n      <td>3.0</td>\n      <td>E-</td>\n      <td>Eb:maj</td>\n      <td>1.0</td>\n      <td>NaN</td>\n      <td>wikifonia</td>\n      <td>leadsheet</td>\n      <td>NaN</td>\n    </tr>\n    <tr>\n      <th>...</th>\n      <td>...</td>\n      <td>...</td>\n      <td>...</td>\n      <td>...</td>\n      <td>...</td>\n      <td>...</td>\n      <td>...</td>\n      <td>...</td>\n      <td>...</td>\n      <td>...</td>\n    </tr>\n    <tr>\n      <th>15</th>\n      <td>chord</td>\n      <td>13.1</td>\n      <td>2.0</td>\n      <td>C major:I64</td>\n      <td>G:maj/5</td>\n      <td>0.0</td>\n      <td>C maj / 5</td>\n      <td>when-in-rome</td>\n      <td>roman</td>\n      <td>NaN</td>\n    </tr>\n    <tr>\n      <th>16</th>\n      <td>chord</td>\n      <td>14.1</td>\n      <td>2.0</td>\n      <td>C major:V7</td>\n      <td>G:7</td>\n      <td>1.0</td>\n      <td>NaN</td>\n      <td>when-in-rome</td>\n      <td>roman</td>\n      <td>NaN</td>\n    </tr>\n    <tr>\n      <th>17</th>\n      <td>chord</td>\n      <td>15.1</td>\n      <td>2.0</td>\n      <td>C major:I64</td>\n      <td>G:maj/5</td>\n      <td>0.0</td>\n      <td>C maj / 5</td>\n      <td>when-in-rome</td>\n      <td>roman</td>\n      <td>NaN</td>\n    </tr>\n    <tr>\n      <th>18</th>\n      <td>chord</td>\n      <td>16.1</td>\n      <td>2.0</td>\n      <td>C major:V</td>\n      <td>G:maj</td>\n      <td>1.0</td>\n      <td>NaN</td>\n      <td>when-in-rome</td>\n      <td>roman</td>\n      <td>NaN</td>\n    </tr>\n    <tr>\n      <th>19</th>\n      <td>chord</td>\n      <td>17.1</td>\n      <td>2.0</td>\n      <td>C major:I</td>\n      <td>C:maj</td>\n      <td>1.0</td>\n      <td>NaN</td>\n      <td>when-in-rome</td>\n      <td>roman</td>\n      <td>NaN</td>\n    </tr>\n  </tbody>\n</table>\n<p>100 rows × 10 columns</p>\n</div>"
     },
     "execution_count": 89,
     "metadata": {},
     "output_type": "execute_result"
    }
   ],
   "source": [
    "biased_validated = []\n",
    "\n",
    "for biased_file in biased_paths:\n",
    "    biased_data = pd.read_excel(biased_file, engine='openpyxl')\n",
    "    validated_data = biased_data[biased_data['correct?'].notnull()]\n",
    "    validated_data = validated_data.assign(partition=biased_file.stem.split('_')[0])\n",
    "    validated_data = validated_data.assign(converter=converters_group[biased_file.stem.split('_')[0]])\n",
    "\n",
    "    biased_validated.append(validated_data)\n",
    "\n",
    "all_biased_validated = pd.concat(biased_validated)\n",
    "all_biased_validated"
   ],
   "metadata": {
    "collapsed": false,
    "pycharm": {
     "name": "#%%\n"
    }
   }
  },
  {
   "cell_type": "code",
   "execution_count": 90,
   "outputs": [
    {
     "data": {
      "text/plain": "            original  converted  correct?   notes     partition  converter\n0                 D7        D:7      True     NaN     wikifonia  leadsheet\n1                 E-     Eb:maj      True     NaN     wikifonia  leadsheet\n2              D7/F#      D:7/3      True     NaN     wikifonia  leadsheet\n3                 B-     Bb:maj      True     NaN     wikifonia  leadsheet\n4                D7+  D:aug(b7)      True     NaN     wikifonia  leadsheet\n..               ...        ...       ...     ...           ...        ...\n5       C major:iiø7    D:hdim7      True     NaN  when-in-rome      roman\n6   C major:III+6/ii    F:aug/3      True     NaN  when-in-rome      roman\n7        C major:I43   C:maj7/5      True     NaN  when-in-rome      roman\n8       C major:IV64    F:maj/5      True     NaN  when-in-rome      roman\n9      C major:viio7    B:hdim7     False  B:dim7  when-in-rome      roman\n\n[96 rows x 6 columns]",
      "text/html": "<div>\n<style scoped>\n    .dataframe tbody tr th:only-of-type {\n        vertical-align: middle;\n    }\n\n    .dataframe tbody tr th {\n        vertical-align: top;\n    }\n\n    .dataframe thead th {\n        text-align: right;\n    }\n</style>\n<table border=\"1\" class=\"dataframe\">\n  <thead>\n    <tr style=\"text-align: right;\">\n      <th></th>\n      <th>original</th>\n      <th>converted</th>\n      <th>correct?</th>\n      <th>notes</th>\n      <th>partition</th>\n      <th>converter</th>\n    </tr>\n  </thead>\n  <tbody>\n    <tr>\n      <th>0</th>\n      <td>D7</td>\n      <td>D:7</td>\n      <td>True</td>\n      <td>NaN</td>\n      <td>wikifonia</td>\n      <td>leadsheet</td>\n    </tr>\n    <tr>\n      <th>1</th>\n      <td>E-</td>\n      <td>Eb:maj</td>\n      <td>True</td>\n      <td>NaN</td>\n      <td>wikifonia</td>\n      <td>leadsheet</td>\n    </tr>\n    <tr>\n      <th>2</th>\n      <td>D7/F#</td>\n      <td>D:7/3</td>\n      <td>True</td>\n      <td>NaN</td>\n      <td>wikifonia</td>\n      <td>leadsheet</td>\n    </tr>\n    <tr>\n      <th>3</th>\n      <td>B-</td>\n      <td>Bb:maj</td>\n      <td>True</td>\n      <td>NaN</td>\n      <td>wikifonia</td>\n      <td>leadsheet</td>\n    </tr>\n    <tr>\n      <th>4</th>\n      <td>D7+</td>\n      <td>D:aug(b7)</td>\n      <td>True</td>\n      <td>NaN</td>\n      <td>wikifonia</td>\n      <td>leadsheet</td>\n    </tr>\n    <tr>\n      <th>...</th>\n      <td>...</td>\n      <td>...</td>\n      <td>...</td>\n      <td>...</td>\n      <td>...</td>\n      <td>...</td>\n    </tr>\n    <tr>\n      <th>5</th>\n      <td>C major:iiø7</td>\n      <td>D:hdim7</td>\n      <td>True</td>\n      <td>NaN</td>\n      <td>when-in-rome</td>\n      <td>roman</td>\n    </tr>\n    <tr>\n      <th>6</th>\n      <td>C major:III+6/ii</td>\n      <td>F:aug/3</td>\n      <td>True</td>\n      <td>NaN</td>\n      <td>when-in-rome</td>\n      <td>roman</td>\n    </tr>\n    <tr>\n      <th>7</th>\n      <td>C major:I43</td>\n      <td>C:maj7/5</td>\n      <td>True</td>\n      <td>NaN</td>\n      <td>when-in-rome</td>\n      <td>roman</td>\n    </tr>\n    <tr>\n      <th>8</th>\n      <td>C major:IV64</td>\n      <td>F:maj/5</td>\n      <td>True</td>\n      <td>NaN</td>\n      <td>when-in-rome</td>\n      <td>roman</td>\n    </tr>\n    <tr>\n      <th>9</th>\n      <td>C major:viio7</td>\n      <td>B:hdim7</td>\n      <td>False</td>\n      <td>B:dim7</td>\n      <td>when-in-rome</td>\n      <td>roman</td>\n    </tr>\n  </tbody>\n</table>\n<p>96 rows × 6 columns</p>\n</div>"
     },
     "execution_count": 90,
     "metadata": {},
     "output_type": "execute_result"
    }
   ],
   "source": [
    "unbiased_validated = []\n",
    "\n",
    "for unbiased_file in unbiased_paths:\n",
    "    unbiased_data = pd.read_excel(unbiased_file, engine='openpyxl')\n",
    "    unbiased_data = unbiased_data.assign(partition=unbiased_file.stem.split('_')[0])\n",
    "    unbiased_data = unbiased_data.assign(converter=converters_group[unbiased_file.stem.split('_')[0]])\n",
    "\n",
    "    unbiased_validated.append(unbiased_data)\n",
    "\n",
    "all_unbiased_validated = pd.concat(unbiased_validated)\n",
    "all_unbiased_validated"
   ],
   "metadata": {
    "collapsed": false,
    "pycharm": {
     "name": "#%%\n"
    }
   }
  },
  {
   "cell_type": "markdown",
   "source": [
    "## Compute data"
   ],
   "metadata": {
    "collapsed": false,
    "pycharm": {
     "name": "#%% md\n"
    }
   }
  },
  {
   "cell_type": "code",
   "execution_count": 97,
   "outputs": [
    {
     "name": "stdout",
     "output_type": "stream",
     "text": [
      "biased  leadsheet  has accuracy:  0.8\n",
      "biased  roman  has accuracy:  0.75\n",
      "unbiased  leadsheet  has accuracy:  0.91\n",
      "unbiased  roman  has accuracy:  0.98\n"
     ]
    }
   ],
   "source": [
    "for x in all_biased_validated.groupby(['converter']):\n",
    "    print('biased ', x[0], ' has accuracy: ', x[1]['correct?'].mean().round(2))\n",
    "\n",
    "for x in all_unbiased_validated.groupby(['converter']):\n",
    "    print('unbiased ', x[0], ' has accuracy: ', x[1]['correct?'].mean().round(2))\n"
   ],
   "metadata": {
    "collapsed": false,
    "pycharm": {
     "name": "#%%\n"
    }
   }
  }
 ],
 "metadata": {
  "kernelspec": {
   "display_name": "Python 3",
   "language": "python",
   "name": "python3"
  },
  "language_info": {
   "codemirror_mode": {
    "name": "ipython",
    "version": 2
   },
   "file_extension": ".py",
   "mimetype": "text/x-python",
   "name": "python",
   "nbconvert_exporter": "python",
   "pygments_lexer": "ipython2",
   "version": "2.7.6"
  }
 },
 "nbformat": 4,
 "nbformat_minor": 0
}