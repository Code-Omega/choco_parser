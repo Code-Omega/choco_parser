{
 "cells": [
  {
   "cell_type": "markdown",
   "metadata": {},
   "source": [
    "# JAMS-Test: evaluation of the jamifier"
   ]
  },
  {
   "cell_type": "code",
   "execution_count": 1,
   "metadata": {},
   "outputs": [],
   "source": [
    "%load_ext autoreload\n",
    "%autoreload 2"
   ]
  },
  {
   "cell_type": "code",
   "execution_count": 2,
   "metadata": {},
   "outputs": [],
   "source": [
    "import os\n",
    "import sys\n",
    "import glob\n",
    "\n",
    "import pandas as pd\n",
    "import matplotlib.pyplot as plt\n",
    "import seaborn as sns\n",
    "\n",
    "sys.path.append(os.path.join(os.path.dirname(os.getcwd()), \"choco\"))\n",
    "\n",
    "\n",
    "# Choose plotting style\n",
    "# sns.set_style(\"whitegrid\")\n",
    "# sns.set_style(\"darkgrid\")"
   ]
  },
  {
   "cell_type": "code",
   "execution_count": 98,
   "metadata": {},
   "outputs": [],
   "source": [
    "def preprocess_partition_test_df(partition_test_path:str):\n",
    "\n",
    "    partition_test_df = pd.read_csv(partition_test_path)\n",
    "    # Append an extra column with the name of the outer partition\n",
    "    partition_name = os.path.basename(  # name of double-parent dir\n",
    "        os.path.dirname(os.path.dirname(partition_test_df[\"gold\"][0])))\n",
    "    partition_test_df[\"partition\"] = partition_name\n",
    "\n",
    "    return partition_test_df\n",
    "\n",
    "\n",
    "def describe_partitions(partition_res_df:pd.DataFrame, dec=4):\n",
    "\n",
    "    partition_means = partition_res_df.groupby(\"partition\").mean().round(dec)\n",
    "    partition_stds = partition_res_df.groupby(\"partition\").std().round(dec)\n",
    "    # String representation of the combined mean ± std partition-wise\n",
    "    partition_str = partition_means.astype(str) \\\n",
    "        + \" ± \" + partition_stds.astype(str)\n",
    "\n",
    "    return partition_means, partition_stds, partition_str\n"
   ]
  },
  {
   "cell_type": "markdown",
   "metadata": {},
   "source": [
    "## Processing a single evaluation"
   ]
  },
  {
   "cell_type": "code",
   "execution_count": 7,
   "metadata": {},
   "outputs": [
    {
     "data": {
      "text/html": [
       "<div>\n",
       "<style scoped>\n",
       "    .dataframe tbody tr th:only-of-type {\n",
       "        vertical-align: middle;\n",
       "    }\n",
       "\n",
       "    .dataframe tbody tr th {\n",
       "        vertical-align: top;\n",
       "    }\n",
       "\n",
       "    .dataframe thead th {\n",
       "        text-align: right;\n",
       "    }\n",
       "</style>\n",
       "<table border=\"1\" class=\"dataframe\">\n",
       "  <thead>\n",
       "    <tr style=\"text-align: right;\">\n",
       "      <th></th>\n",
       "      <th>meta_cov</th>\n",
       "      <th>meta_acc</th>\n",
       "      <th>iden_cov</th>\n",
       "      <th>iden_acc</th>\n",
       "      <th>key_cov_time</th>\n",
       "      <th>key_cov_duration</th>\n",
       "      <th>key_cov_value</th>\n",
       "      <th>key_err_time</th>\n",
       "      <th>key_err_duration</th>\n",
       "      <th>key_err_value</th>\n",
       "      <th>chord_cov_time</th>\n",
       "      <th>chord_cov_duration</th>\n",
       "      <th>chord_cov_value</th>\n",
       "      <th>chord_err_time</th>\n",
       "      <th>chord_err_duration</th>\n",
       "      <th>chord_err_value</th>\n",
       "      <th>gold</th>\n",
       "      <th>jamified</th>\n",
       "      <th>type</th>\n",
       "    </tr>\n",
       "  </thead>\n",
       "  <tbody>\n",
       "    <tr>\n",
       "      <th>0</th>\n",
       "      <td>1.000000</td>\n",
       "      <td>0.900000</td>\n",
       "      <td>1.0</td>\n",
       "      <td>0.58</td>\n",
       "      <td>1.0</td>\n",
       "      <td>1.0</td>\n",
       "      <td>1.0</td>\n",
       "      <td>0.0</td>\n",
       "      <td>0.0</td>\n",
       "      <td>0.0</td>\n",
       "      <td>0.800000</td>\n",
       "      <td>1.000000</td>\n",
       "      <td>0.600000</td>\n",
       "      <td>0.340000</td>\n",
       "      <td>0.400000</td>\n",
       "      <td>0.240000</td>\n",
       "      <td>../tests/data/dummy-spartition/test/score_a_2....</td>\n",
       "      <td>../tests/data/dummy-spartition/jams/score_a.jams</td>\n",
       "      <td>score</td>\n",
       "    </tr>\n",
       "    <tr>\n",
       "      <th>1</th>\n",
       "      <td>0.833333</td>\n",
       "      <td>0.694118</td>\n",
       "      <td>1.0</td>\n",
       "      <td>0.80</td>\n",
       "      <td>1.0</td>\n",
       "      <td>1.0</td>\n",
       "      <td>1.0</td>\n",
       "      <td>0.0</td>\n",
       "      <td>0.0</td>\n",
       "      <td>0.0</td>\n",
       "      <td>0.000000</td>\n",
       "      <td>0.833333</td>\n",
       "      <td>0.111111</td>\n",
       "      <td>1.622222</td>\n",
       "      <td>1.444444</td>\n",
       "      <td>0.466667</td>\n",
       "      <td>../tests/data/dummy-spartition/test/score_b_1....</td>\n",
       "      <td>../tests/data/dummy-spartition/jams/score_b.jams</td>\n",
       "      <td>score</td>\n",
       "    </tr>\n",
       "    <tr>\n",
       "      <th>2</th>\n",
       "      <td>0.833333</td>\n",
       "      <td>0.694118</td>\n",
       "      <td>1.0</td>\n",
       "      <td>0.80</td>\n",
       "      <td>1.0</td>\n",
       "      <td>1.0</td>\n",
       "      <td>1.0</td>\n",
       "      <td>0.0</td>\n",
       "      <td>0.0</td>\n",
       "      <td>0.0</td>\n",
       "      <td>0.333333</td>\n",
       "      <td>1.000000</td>\n",
       "      <td>0.444444</td>\n",
       "      <td>1.088889</td>\n",
       "      <td>0.888889</td>\n",
       "      <td>0.311111</td>\n",
       "      <td>../tests/data/dummy-spartition/test/score_b_2....</td>\n",
       "      <td>../tests/data/dummy-spartition/jams/score_b.jams</td>\n",
       "      <td>score</td>\n",
       "    </tr>\n",
       "    <tr>\n",
       "      <th>3</th>\n",
       "      <td>1.000000</td>\n",
       "      <td>0.973430</td>\n",
       "      <td>1.0</td>\n",
       "      <td>1.00</td>\n",
       "      <td>1.0</td>\n",
       "      <td>1.0</td>\n",
       "      <td>1.0</td>\n",
       "      <td>0.0</td>\n",
       "      <td>0.0</td>\n",
       "      <td>0.0</td>\n",
       "      <td>1.000000</td>\n",
       "      <td>1.000000</td>\n",
       "      <td>0.666667</td>\n",
       "      <td>0.000000</td>\n",
       "      <td>0.000000</td>\n",
       "      <td>0.333333</td>\n",
       "      <td>../tests/data/dummy-spartition/test/score_a_1....</td>\n",
       "      <td>../tests/data/dummy-spartition/jams/score_a.jams</td>\n",
       "      <td>score</td>\n",
       "    </tr>\n",
       "    <tr>\n",
       "      <th>4</th>\n",
       "      <td>1.000000</td>\n",
       "      <td>1.000000</td>\n",
       "      <td>1.0</td>\n",
       "      <td>1.00</td>\n",
       "      <td>1.0</td>\n",
       "      <td>1.0</td>\n",
       "      <td>1.0</td>\n",
       "      <td>0.0</td>\n",
       "      <td>0.0</td>\n",
       "      <td>0.0</td>\n",
       "      <td>1.000000</td>\n",
       "      <td>1.000000</td>\n",
       "      <td>1.000000</td>\n",
       "      <td>0.000000</td>\n",
       "      <td>0.000000</td>\n",
       "      <td>0.000000</td>\n",
       "      <td>../tests/data/dummy-spartition/test/score_c_1....</td>\n",
       "      <td>../tests/data/dummy-spartition/jams/score_c.jams</td>\n",
       "      <td>score</td>\n",
       "    </tr>\n",
       "  </tbody>\n",
       "</table>\n",
       "</div>"
      ],
      "text/plain": [
       "   meta_cov  meta_acc  iden_cov  iden_acc  key_cov_time  key_cov_duration  \\\n",
       "0  1.000000  0.900000       1.0      0.58           1.0               1.0   \n",
       "1  0.833333  0.694118       1.0      0.80           1.0               1.0   \n",
       "2  0.833333  0.694118       1.0      0.80           1.0               1.0   \n",
       "3  1.000000  0.973430       1.0      1.00           1.0               1.0   \n",
       "4  1.000000  1.000000       1.0      1.00           1.0               1.0   \n",
       "\n",
       "   key_cov_value  key_err_time  key_err_duration  key_err_value  \\\n",
       "0            1.0           0.0               0.0            0.0   \n",
       "1            1.0           0.0               0.0            0.0   \n",
       "2            1.0           0.0               0.0            0.0   \n",
       "3            1.0           0.0               0.0            0.0   \n",
       "4            1.0           0.0               0.0            0.0   \n",
       "\n",
       "   chord_cov_time  chord_cov_duration  chord_cov_value  chord_err_time  \\\n",
       "0        0.800000            1.000000         0.600000        0.340000   \n",
       "1        0.000000            0.833333         0.111111        1.622222   \n",
       "2        0.333333            1.000000         0.444444        1.088889   \n",
       "3        1.000000            1.000000         0.666667        0.000000   \n",
       "4        1.000000            1.000000         1.000000        0.000000   \n",
       "\n",
       "   chord_err_duration  chord_err_value  \\\n",
       "0            0.400000         0.240000   \n",
       "1            1.444444         0.466667   \n",
       "2            0.888889         0.311111   \n",
       "3            0.000000         0.333333   \n",
       "4            0.000000         0.000000   \n",
       "\n",
       "                                                gold  \\\n",
       "0  ../tests/data/dummy-spartition/test/score_a_2....   \n",
       "1  ../tests/data/dummy-spartition/test/score_b_1....   \n",
       "2  ../tests/data/dummy-spartition/test/score_b_2....   \n",
       "3  ../tests/data/dummy-spartition/test/score_a_1....   \n",
       "4  ../tests/data/dummy-spartition/test/score_c_1....   \n",
       "\n",
       "                                           jamified   type  \n",
       "0  ../tests/data/dummy-spartition/jams/score_a.jams  score  \n",
       "1  ../tests/data/dummy-spartition/jams/score_b.jams  score  \n",
       "2  ../tests/data/dummy-spartition/jams/score_b.jams  score  \n",
       "3  ../tests/data/dummy-spartition/jams/score_a.jams  score  \n",
       "4  ../tests/data/dummy-spartition/jams/score_c.jams  score  "
      ]
     },
     "execution_count": 7,
     "metadata": {},
     "output_type": "execute_result"
    }
   ],
   "source": [
    "test_sample = \"../tests/data/dummy-spartition/test/test_results_agg.csv\"\n",
    "\n",
    "test_sample_df = pd.read_csv(test_sample)\n",
    "\n",
    "test_sample_df"
   ]
  },
  {
   "cell_type": "markdown",
   "metadata": {},
   "source": [
    "## Aggregation of evaluations"
   ]
  },
  {
   "cell_type": "code",
   "execution_count": 61,
   "metadata": {},
   "outputs": [
    {
     "name": "stdout",
     "output_type": "stream",
     "text": [
      "Found 2 test result CSV files from partitions\n"
     ]
    },
    {
     "data": {
      "text/plain": [
       "['../tests/data/dummy-apartition/test/test_results_agg.csv',\n",
       " '../tests/data/dummy-spartition/test/test_results_agg.csv']"
      ]
     },
     "execution_count": 61,
     "metadata": {},
     "output_type": "execute_result"
    }
   ],
   "source": [
    "test_results = glob.glob(\"../tests/data/*/test/**/test_results_agg.csv\", recursive=True)\n",
    "print(f\"Found {len(test_results)} test result CSV files from partitions\")\n",
    "\n",
    "test_results"
   ]
  },
  {
   "cell_type": "code",
   "execution_count": 92,
   "metadata": {},
   "outputs": [],
   "source": [
    "partition_test_dfs = [preprocess_partition_test_df(ptest_path) for ptest_path in test_results]"
   ]
  },
  {
   "cell_type": "code",
   "execution_count": 93,
   "metadata": {},
   "outputs": [],
   "source": [
    "all_partitions = pd.concat(partition_test_dfs)\n",
    "# Recompute indexes and drop JAMS-file columns\n",
    "all_partitions = all_partitions.reset_index(drop=True)\n",
    "all_partitions = all_partitions.drop([\"gold\", \"jamified\"], axis=1)"
   ]
  },
  {
   "cell_type": "code",
   "execution_count": 94,
   "metadata": {},
   "outputs": [],
   "source": [
    "meta_cols = [\"meta_cov\", \"meta_acc\", \"iden_cov\", \"iden_acc\", \"partition\"]\n",
    "anns_cols = [c for c in all_partitions.columns if c not in meta_cols] + [\"partition\"]\n",
    "\n",
    "all_partitions_meta = all_partitions[meta_cols]\n",
    "all_partitions_anns = all_partitions[anns_cols]\n",
    "\n",
    "all_partitions_anns_score = all_partitions_anns[all_partitions_anns[\"type\"]==\"score\"]\n",
    "all_partitions_anns_audio = all_partitions_anns[all_partitions_anns[\"type\"]==\"audio\"]"
   ]
  },
  {
   "cell_type": "markdown",
   "metadata": {},
   "source": [
    "### Metadata results"
   ]
  },
  {
   "cell_type": "code",
   "execution_count": 99,
   "metadata": {},
   "outputs": [],
   "source": [
    "_, _, meta_res_str = describe_partitions(all_partitions_meta)"
   ]
  },
  {
   "cell_type": "code",
   "execution_count": 100,
   "metadata": {},
   "outputs": [
    {
     "data": {
      "text/html": [
       "<div>\n",
       "<style scoped>\n",
       "    .dataframe tbody tr th:only-of-type {\n",
       "        vertical-align: middle;\n",
       "    }\n",
       "\n",
       "    .dataframe tbody tr th {\n",
       "        vertical-align: top;\n",
       "    }\n",
       "\n",
       "    .dataframe thead th {\n",
       "        text-align: right;\n",
       "    }\n",
       "</style>\n",
       "<table border=\"1\" class=\"dataframe\">\n",
       "  <thead>\n",
       "    <tr style=\"text-align: right;\">\n",
       "      <th></th>\n",
       "      <th>meta_cov</th>\n",
       "      <th>meta_acc</th>\n",
       "      <th>iden_cov</th>\n",
       "      <th>iden_acc</th>\n",
       "    </tr>\n",
       "    <tr>\n",
       "      <th>partition</th>\n",
       "      <th></th>\n",
       "      <th></th>\n",
       "      <th></th>\n",
       "      <th></th>\n",
       "    </tr>\n",
       "  </thead>\n",
       "  <tbody>\n",
       "    <tr>\n",
       "      <th>dummy-apartition</th>\n",
       "      <td>0.9333 ± 0.0913</td>\n",
       "      <td>0.8523 ± 0.149</td>\n",
       "      <td>1.0 ± 0.0</td>\n",
       "      <td>0.836 ± 0.1746</td>\n",
       "    </tr>\n",
       "    <tr>\n",
       "      <th>dummy-spartition</th>\n",
       "      <td>0.9333 ± 0.0913</td>\n",
       "      <td>0.8523 ± 0.149</td>\n",
       "      <td>1.0 ± 0.0</td>\n",
       "      <td>0.836 ± 0.1746</td>\n",
       "    </tr>\n",
       "  </tbody>\n",
       "</table>\n",
       "</div>"
      ],
      "text/plain": [
       "                         meta_cov        meta_acc   iden_cov        iden_acc\n",
       "partition                                                                   \n",
       "dummy-apartition  0.9333 ± 0.0913  0.8523 ± 0.149  1.0 ± 0.0  0.836 ± 0.1746\n",
       "dummy-spartition  0.9333 ± 0.0913  0.8523 ± 0.149  1.0 ± 0.0  0.836 ± 0.1746"
      ]
     },
     "execution_count": 100,
     "metadata": {},
     "output_type": "execute_result"
    }
   ],
   "source": [
    "meta_res_str"
   ]
  },
  {
   "cell_type": "markdown",
   "metadata": {},
   "source": [
    "### Annotation results: score"
   ]
  },
  {
   "cell_type": "code",
   "execution_count": 101,
   "metadata": {},
   "outputs": [],
   "source": [
    "_, _, ann_res_score_str = describe_partitions(all_partitions_anns_score)"
   ]
  },
  {
   "cell_type": "code",
   "execution_count": 102,
   "metadata": {},
   "outputs": [
    {
     "data": {
      "text/html": [
       "<div>\n",
       "<style scoped>\n",
       "    .dataframe tbody tr th:only-of-type {\n",
       "        vertical-align: middle;\n",
       "    }\n",
       "\n",
       "    .dataframe tbody tr th {\n",
       "        vertical-align: top;\n",
       "    }\n",
       "\n",
       "    .dataframe thead th {\n",
       "        text-align: right;\n",
       "    }\n",
       "</style>\n",
       "<table border=\"1\" class=\"dataframe\">\n",
       "  <thead>\n",
       "    <tr style=\"text-align: right;\">\n",
       "      <th></th>\n",
       "      <th>key_cov_time</th>\n",
       "      <th>key_cov_duration</th>\n",
       "      <th>key_cov_value</th>\n",
       "      <th>key_err_time</th>\n",
       "      <th>key_err_duration</th>\n",
       "      <th>key_err_value</th>\n",
       "      <th>chord_cov_time</th>\n",
       "      <th>chord_cov_duration</th>\n",
       "      <th>chord_cov_value</th>\n",
       "      <th>chord_err_time</th>\n",
       "      <th>chord_err_duration</th>\n",
       "      <th>chord_err_value</th>\n",
       "    </tr>\n",
       "    <tr>\n",
       "      <th>partition</th>\n",
       "      <th></th>\n",
       "      <th></th>\n",
       "      <th></th>\n",
       "      <th></th>\n",
       "      <th></th>\n",
       "      <th></th>\n",
       "      <th></th>\n",
       "      <th></th>\n",
       "      <th></th>\n",
       "      <th></th>\n",
       "      <th></th>\n",
       "      <th></th>\n",
       "    </tr>\n",
       "  </thead>\n",
       "  <tbody>\n",
       "    <tr>\n",
       "      <th>dummy-spartition</th>\n",
       "      <td>1.0 ± 0.0</td>\n",
       "      <td>1.0 ± 0.0</td>\n",
       "      <td>1.0 ± 0.0</td>\n",
       "      <td>0.0 ± 0.0</td>\n",
       "      <td>0.0 ± 0.0</td>\n",
       "      <td>0.0 ± 0.0</td>\n",
       "      <td>0.6267 ± 0.4437</td>\n",
       "      <td>0.9667 ± 0.0745</td>\n",
       "      <td>0.5644 ± 0.3246</td>\n",
       "      <td>0.6102 ± 0.7196</td>\n",
       "      <td>0.5467 ± 0.621</td>\n",
       "      <td>0.2702 ± 0.1719</td>\n",
       "    </tr>\n",
       "  </tbody>\n",
       "</table>\n",
       "</div>"
      ],
      "text/plain": [
       "                 key_cov_time key_cov_duration key_cov_value key_err_time  \\\n",
       "partition                                                                   \n",
       "dummy-spartition    1.0 ± 0.0        1.0 ± 0.0     1.0 ± 0.0    0.0 ± 0.0   \n",
       "\n",
       "                 key_err_duration key_err_value   chord_cov_time  \\\n",
       "partition                                                          \n",
       "dummy-spartition        0.0 ± 0.0     0.0 ± 0.0  0.6267 ± 0.4437   \n",
       "\n",
       "                 chord_cov_duration  chord_cov_value   chord_err_time  \\\n",
       "partition                                                               \n",
       "dummy-spartition    0.9667 ± 0.0745  0.5644 ± 0.3246  0.6102 ± 0.7196   \n",
       "\n",
       "                 chord_err_duration  chord_err_value  \n",
       "partition                                             \n",
       "dummy-spartition     0.5467 ± 0.621  0.2702 ± 0.1719  "
      ]
     },
     "execution_count": 102,
     "metadata": {},
     "output_type": "execute_result"
    }
   ],
   "source": [
    "ann_res_score_str"
   ]
  },
  {
   "cell_type": "markdown",
   "metadata": {},
   "source": [
    "### Annotation results: audio"
   ]
  },
  {
   "cell_type": "code",
   "execution_count": 105,
   "metadata": {},
   "outputs": [],
   "source": [
    "_, _, ann_res_audio_str = describe_partitions(all_partitions_anns_audio)"
   ]
  },
  {
   "cell_type": "code",
   "execution_count": 106,
   "metadata": {},
   "outputs": [
    {
     "data": {
      "text/html": [
       "<div>\n",
       "<style scoped>\n",
       "    .dataframe tbody tr th:only-of-type {\n",
       "        vertical-align: middle;\n",
       "    }\n",
       "\n",
       "    .dataframe tbody tr th {\n",
       "        vertical-align: top;\n",
       "    }\n",
       "\n",
       "    .dataframe thead th {\n",
       "        text-align: right;\n",
       "    }\n",
       "</style>\n",
       "<table border=\"1\" class=\"dataframe\">\n",
       "  <thead>\n",
       "    <tr style=\"text-align: right;\">\n",
       "      <th></th>\n",
       "      <th>key_cov_time</th>\n",
       "      <th>key_cov_duration</th>\n",
       "      <th>key_cov_value</th>\n",
       "      <th>key_err_time</th>\n",
       "      <th>key_err_duration</th>\n",
       "      <th>key_err_value</th>\n",
       "      <th>chord_cov_time</th>\n",
       "      <th>chord_cov_duration</th>\n",
       "      <th>chord_cov_value</th>\n",
       "      <th>chord_err_time</th>\n",
       "      <th>chord_err_duration</th>\n",
       "      <th>chord_err_value</th>\n",
       "    </tr>\n",
       "    <tr>\n",
       "      <th>partition</th>\n",
       "      <th></th>\n",
       "      <th></th>\n",
       "      <th></th>\n",
       "      <th></th>\n",
       "      <th></th>\n",
       "      <th></th>\n",
       "      <th></th>\n",
       "      <th></th>\n",
       "      <th></th>\n",
       "      <th></th>\n",
       "      <th></th>\n",
       "      <th></th>\n",
       "    </tr>\n",
       "  </thead>\n",
       "  <tbody>\n",
       "    <tr>\n",
       "      <th>dummy-apartition</th>\n",
       "      <td>1.0 ± 0.0</td>\n",
       "      <td>1.0 ± 0.0</td>\n",
       "      <td>1.0 ± 0.0</td>\n",
       "      <td>0.0 ± 0.0</td>\n",
       "      <td>0.0 ± 0.0</td>\n",
       "      <td>0.0 ± 0.0</td>\n",
       "      <td>0.6267 ± 0.4437</td>\n",
       "      <td>0.9667 ± 0.0745</td>\n",
       "      <td>0.5644 ± 0.3246</td>\n",
       "      <td>0.6102 ± 0.7196</td>\n",
       "      <td>0.5467 ± 0.621</td>\n",
       "      <td>0.2702 ± 0.1719</td>\n",
       "    </tr>\n",
       "  </tbody>\n",
       "</table>\n",
       "</div>"
      ],
      "text/plain": [
       "                 key_cov_time key_cov_duration key_cov_value key_err_time  \\\n",
       "partition                                                                   \n",
       "dummy-apartition    1.0 ± 0.0        1.0 ± 0.0     1.0 ± 0.0    0.0 ± 0.0   \n",
       "\n",
       "                 key_err_duration key_err_value   chord_cov_time  \\\n",
       "partition                                                          \n",
       "dummy-apartition        0.0 ± 0.0     0.0 ± 0.0  0.6267 ± 0.4437   \n",
       "\n",
       "                 chord_cov_duration  chord_cov_value   chord_err_time  \\\n",
       "partition                                                               \n",
       "dummy-apartition    0.9667 ± 0.0745  0.5644 ± 0.3246  0.6102 ± 0.7196   \n",
       "\n",
       "                 chord_err_duration  chord_err_value  \n",
       "partition                                             \n",
       "dummy-apartition     0.5467 ± 0.621  0.2702 ± 0.1719  "
      ]
     },
     "execution_count": 106,
     "metadata": {},
     "output_type": "execute_result"
    }
   ],
   "source": [
    "ann_res_audio_str\n"
   ]
  },
  {
   "cell_type": "code",
   "execution_count": null,
   "metadata": {},
   "outputs": [],
   "source": []
  },
  {
   "cell_type": "code",
   "execution_count": 110,
   "metadata": {},
   "outputs": [
    {
     "data": {
      "text/plain": [
       "False"
      ]
     },
     "execution_count": 110,
     "metadata": {},
     "output_type": "execute_result"
    }
   ],
   "source": [
    "a = [\"a\", \"b\", \"c\"]\n",
    "\n",
    "b = [\"a\", \"b\", \"d\", \"e\", \"b\"]\n",
    "\n",
    "all([ele in b for ele in a])"
   ]
  },
  {
   "cell_type": "code",
   "execution_count": 111,
   "metadata": {},
   "outputs": [],
   "source": [
    "import jams\n",
    "\n",
    "jam = jams.JAMS(annotations=[\n",
    "    jams.Annotation(namespace=\"chord\"),\n",
    "    jams.Annotation(namespace=\"chord_harte\")\n",
    "])"
   ]
  },
  {
   "cell_type": "code",
   "execution_count": 115,
   "metadata": {},
   "outputs": [
    {
     "data": {
      "text/html": [
       "<div class=\"panel-group\">  <div class=\"panel panel-default\">\n",
       "                        <div class=\"panel-heading\" role=\"tab\" id=\"heading-140269762893280-13\">\n",
       "                            <button\n",
       "                                type=\"button\"\n",
       "                                data-toggle=\"collapse\"\n",
       "                                data-parent=\"#accordion\"\n",
       "                                href=\"#140269762893280-13\"\n",
       "                                aria-expanded=\"false\"\n",
       "                                class=\"collapsed btn btn-info btn-block\"\n",
       "                                aria-controls=\"140269762893280-13\">\n",
       "                                chord\n",
       "                                <span class=\"badge pull-right\">0</span>\n",
       "                            </button>\n",
       "                        </div>     <div id=\"140269762893280-13\" class=\"panel-collapse collapse\"\n",
       "                             role=\"tabpanel\" aria-labelledby=\"heading-140269762893280-13\">\n",
       "                            <div class=\"panel-body\"><div class=\"pull-right\">\n",
       "                        <div class=\"panel-group\"><div class=\"panel panel-danger\"><div class=\"panel-heading\">\n",
       "                                Annotator&nbsp;\n",
       "                                <span class=\"pull-right\"><em></em></span>\n",
       "                           </div></div><div class=\"panel panel-danger\"><div class=\"panel-heading\">\n",
       "                                Version&nbsp;\n",
       "                                <span class=\"pull-right\"><em></em></span>\n",
       "                           </div></div><div class=\"panel panel-danger\"><div class=\"panel-heading\">\n",
       "                                Corpus&nbsp;\n",
       "                                <span class=\"pull-right\"><em></em></span>\n",
       "                           </div></div><div class=\"panel panel-default\"><div class=\"panel-heading\" role=\"tab\" id=\"heading-140269762893904-14\">\n",
       "                            <button\n",
       "                                type=\"button\"\n",
       "                                data-toggle=\"collapse\"\n",
       "                                data-parent=\"#accordion\"\n",
       "                                href=\"#140269762893904-14\"\n",
       "                                aria-expanded=\"false\"\n",
       "                                class=\"collapsed btn btn-block btn-primary\"\n",
       "                                aria-controls=\"140269762893904-14\">\n",
       "                                Curator </button></div><div class=\"panel-collapse collapse\"\n",
       "                                    id=\"140269762893904-14\"\n",
       "                                    role=\"tabpanel\"\n",
       "                                    aria-labelledby=\"hading140269762893904-14\">\n",
       "                                    <div class=\"panel-body\">\n",
       "                                        <div class=\"panel-group\"><div class=\"panel panel-danger\"><div class=\"panel-heading\">\n",
       "                                Name&nbsp;\n",
       "                                <span class=\"pull-right\"><em></em></span>\n",
       "                           </div></div><div class=\"panel panel-danger\"><div class=\"panel-heading\">\n",
       "                                Email&nbsp;\n",
       "                                <span class=\"pull-right\"><em></em></span>\n",
       "                           </div></div></div>\n",
       "                                    </div>\n",
       "                                </div></div><div class=\"panel panel-danger\"><div class=\"panel-heading\">\n",
       "                                Annotation tools&nbsp;\n",
       "                                <span class=\"pull-right\"><em></em></span>\n",
       "                           </div></div><div class=\"panel panel-danger\"><div class=\"panel-heading\">\n",
       "                                Annotation rules&nbsp;\n",
       "                                <span class=\"pull-right\"><em></em></span>\n",
       "                           </div></div><div class=\"panel panel-danger\"><div class=\"panel-heading\">\n",
       "                                Data source&nbsp;\n",
       "                                <span class=\"pull-right\"><em></em></span>\n",
       "                           </div></div><div class=\"panel panel-danger\"><div class=\"panel-heading\">\n",
       "                                Validation&nbsp;\n",
       "                                <span class=\"pull-right\"><em></em></span>\n",
       "                           </div></div></div>\n",
       "                    </div><div class=\"pull-right clearfix\">\n",
       "                        \n",
       "                    </div><div><table border=\"1\" class=\"dataframe\">\n",
       "                    <thead>\n",
       "                        <tr style=\"text-align: right;\">\n",
       "                            <th></th>\n",
       "                            <th>time</th>\n",
       "                            <th>duration</th>\n",
       "                            <th>value</th>\n",
       "                            <th>confidence</th>\n",
       "                        </tr>\n",
       "                    </thead><tbody></tbody></table></div></div></div></div></div>"
      ],
      "text/plain": [
       "[1 annotation]"
      ]
     },
     "execution_count": 115,
     "metadata": {},
     "output_type": "execute_result"
    }
   ],
   "source": [
    "jam.search(namespace=r\"chord$\")"
   ]
  },
  {
   "cell_type": "code",
   "execution_count": 128,
   "metadata": {},
   "outputs": [],
   "source": [
    "# import jams\n",
    "\n",
    "# jams.load(\"/Users/jacopodeberardinis/Documents/projects/choco/partitions/real-book/test/real-book_251_silver_Nicolas.jams\", strict=False)"
   ]
  },
  {
   "cell_type": "code",
   "execution_count": 131,
   "metadata": {},
   "outputs": [],
   "source": [
    "test = pd.DataFrame([\n",
    "    {\n",
    "        \"name\": \"a\",\n",
    "        \"val_a\": 10,\n",
    "        \"val_b\": 20,\n",
    "    },\n",
    "    {\n",
    "        \"name\": \"a\",\n",
    "        \"val_a\": None,\n",
    "        \"val_b\": 40,\n",
    "    },\n",
    "    {\n",
    "        \"name\": \"a\",\n",
    "        \"val_a\": 20,\n",
    "        \"val_b\": 20,\n",
    "    }\n",
    "])\n",
    "\n",
    "test = pd.DataFrame([\n",
    "    {\n",
    "        \"name\": \"a\",\n",
    "        \"val_a\": 10,\n",
    "    },\n",
    "    {\n",
    "        \"name\": \"a\",\n",
    "        \"val_a\": None,\n",
    "    },\n",
    "    {\n",
    "        \"name\": \"a\",\n",
    "        \"val_a\": 20,\n",
    "    }\n",
    "])"
   ]
  },
  {
   "cell_type": "code",
   "execution_count": 132,
   "metadata": {},
   "outputs": [
    {
     "name": "stderr",
     "output_type": "stream",
     "text": [
      "/var/folders/q6/phq9pwd56q78175j_yvjz8pc0000gn/T/ipykernel_39112/1706541227.py:1: FutureWarning: Dropping of nuisance columns in DataFrame reductions (with 'numeric_only=None') is deprecated; in a future version this will raise TypeError.  Select only valid columns before calling the reduction.\n",
      "  test.mean()\n"
     ]
    },
    {
     "data": {
      "text/plain": [
       "val_a    15.000000\n",
       "val_b    26.666667\n",
       "dtype: float64"
      ]
     },
     "execution_count": 132,
     "metadata": {},
     "output_type": "execute_result"
    }
   ],
   "source": [
    "test.mean()"
   ]
  },
  {
   "cell_type": "code",
   "execution_count": 133,
   "metadata": {},
   "outputs": [],
   "source": [
    "a = {\"ass\": 1}"
   ]
  },
  {
   "cell_type": "code",
   "execution_count": null,
   "metadata": {},
   "outputs": [],
   "source": []
  },
  {
   "cell_type": "code",
   "execution_count": null,
   "metadata": {},
   "outputs": [],
   "source": []
  }
 ],
 "metadata": {
  "kernelspec": {
   "display_name": "Python 3.9.11 ('choco')",
   "language": "python",
   "name": "python3"
  },
  "language_info": {
   "codemirror_mode": {
    "name": "ipython",
    "version": 3
   },
   "file_extension": ".py",
   "mimetype": "text/x-python",
   "name": "python",
   "nbconvert_exporter": "python",
   "pygments_lexer": "ipython3",
   "version": "3.9.11"
  },
  "orig_nbformat": 4,
  "vscode": {
   "interpreter": {
    "hash": "9451ea1bf9e02c59b6ca0eabeecd8c422ceaa9dcbba8005fe84a5f52aabda9f4"
   }
  }
 },
 "nbformat": 4,
 "nbformat_minor": 2
}
