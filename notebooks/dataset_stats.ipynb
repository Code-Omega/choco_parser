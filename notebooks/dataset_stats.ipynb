{
 "cells": [
  {
   "cell_type": "markdown",
   "metadata": {},
   "source": [
    "# A glimpse of ChoCo"
   ]
  },
  {
   "cell_type": "code",
   "execution_count": 1,
   "metadata": {},
   "outputs": [],
   "source": [
    "%load_ext autoreload\n",
    "%autoreload 2"
   ]
  },
  {
   "cell_type": "markdown",
   "metadata": {},
   "source": [
    "### Notes on the format of statistics in this notebook\n",
    "\n",
    "- **Duration**, per score and audio, distplot for each (+ mu and std in text)\n",
    "- **Type**: proportion of score/audio can be mentioned in text, or table.\n",
    "\n",
    "- **Identifiers**, mentioned in text -- number, proportion and counts.\n",
    "- **Composers** and **performers**  -- number, proportion, and counts.\n",
    "- **No. of annotations** (in total), just mention in text.\n",
    "\n",
    "#### Per annotation namespace (e.g. key, chord in Harte)\n",
    "\n",
    "- Annotation type: count, not interesting if separated because many keys-chords would follow the same (can avoid).\n",
    "- **Annotators**, same as before, mention for how many this is available, possibly mention the top 3.\n",
    "\n",
    "- **No. of observations** (and **unique**): distplot + reference to mean and std\n",
    "    - For keys, we can filter out the global, and report for when more are given (to avoid inflating 1s).\n",
    "- **Observation occurrences** (and **w/o reps**), plot histograms of count with relative freqs as plot annotation.\n",
    "\n",
    "- **N-grams**, same as before. Maybe use table if this is cluttered by labels.\n",
    "\n",
    "- Durations of observations, per audio and score separately, distplot of averages.\n",
    "\n",
    "PS: Some of these annotation statistics may make sense only for chords, and not for keys. We can choose a subset of them for keys."
   ]
  },
  {
   "cell_type": "code",
   "execution_count": 2,
   "metadata": {},
   "outputs": [],
   "source": [
    "import os\n",
    "import sys\n",
    "import glob\n",
    "import joblib\n",
    "\n",
    "import pandas as pd\n",
    "import matplotlib.pyplot as plt\n",
    "import seaborn as sns\n",
    "\n",
    "from IPython.display import Markdown as md\n",
    "\n",
    "sys.path.append(os.path.join(os.path.dirname(os.getcwd()), \"choco\"))\n",
    "\n",
    "from jams_stats import ChoCoAnnotationStats, ChoCoDatasetStats, StatsExtractorState\n",
    "from utils import stringify_dict\n",
    "\n",
    "# Choose plotting style\n",
    "sns.set_style(\"whitegrid\")\n",
    "sns.set_style(\"darkgrid\")"
   ]
  },
  {
   "cell_type": "code",
   "execution_count": 3,
   "metadata": {},
   "outputs": [],
   "source": [
    "from collections import Counter\n",
    "\n",
    "def plot_counter(cnt:Counter, name:str, horizontal=False, show_pcts=True,\n",
    "    first_n=100, title=\"\", ax=None, figsize=(10, 4)):\n",
    "\n",
    "    fig, ax = plt.subplots(figsize=figsize) if ax is None else (None, ax)\n",
    "\n",
    "    truncated_cnt = cnt.most_common()[:first_n]\n",
    "    count_df = pd.DataFrame(truncated_cnt, columns=[name, \"count\"])\n",
    "    pcts = round(count_df[\"count\"] / sum(cnt.values()), 2)\n",
    "\n",
    "    x, y = (name, \"count\") if not horizontal else (\"count\", name)\n",
    "    ax = sns.barplot(x=x, y=y, data=count_df, ax=ax)\n",
    "\n",
    "    if show_pcts:  # plot percentages as relative counts\n",
    "        ax.bar_label(ax.containers[0], pcts, label_type='center')\n",
    "    ax.set_title(title)\n",
    "    \n",
    "    return ax\n",
    "\n",
    "\n",
    "def plot_histogram(values:list, unit:str, title=\"\", ax=None, figsize=(10, 4)):\n",
    "    \n",
    "    fig, ax = plt.subplots(figsize=figsize) if ax is None else (None, ax)\n",
    "    sns.histplot(values, kde=True, ax=ax)\n",
    "\n",
    "    ax.set_xlabel(unit)\n",
    "    ax.set_title(title)\n",
    "\n",
    "    return ax\n",
    "\n",
    "\n",
    "def create_ngram_df(ngram_cnt:Counter, name:str, first_n=10):\n",
    "\n",
    "    ngram_records = ngram_cnt.most_common(first_n)  # get ngram tuples\n",
    "    ngram_df = []  # holding ngram dictionaries, incrementally\n",
    "    for ngram_record in ngram_records:\n",
    "        ngram, cnt = ngram_record\n",
    "        ngram_df.append({**{f\"{name}_{i+1}\": c for i, c in enumerate(ngram)},\n",
    "                         **{\"cnt\": cnt}})  # append actual ngram count\n",
    "\n",
    "    ngram_df = pd.DataFrame(ngram_df)\n",
    "    return ngram_df"
   ]
  },
  {
   "cell_type": "code",
   "execution_count": 4,
   "metadata": {},
   "outputs": [],
   "source": [
    "jams_stats_file = \"../partitions/isophonics/choco/jams_stats.joblib\"\n",
    "dataset_stats_file = \"../partitions/isophonics/choco/dataset_stats.joblib\""
   ]
  },
  {
   "cell_type": "code",
   "execution_count": 5,
   "metadata": {},
   "outputs": [
    {
     "name": "stdout",
     "output_type": "stream",
     "text": [
      "225 JAMS stats\n"
     ]
    }
   ],
   "source": [
    "with open(jams_stats_file, 'rb') as jobfile:\n",
    "    jams_stats = joblib.load(jobfile)\n",
    "\n",
    "with open(dataset_stats_file, 'rb') as jobfile:\n",
    "    data_stats = joblib.load(jobfile)\n",
    "\n",
    "print(f\"{len(jams_stats)} JAMS stats\")"
   ]
  },
  {
   "cell_type": "markdown",
   "metadata": {},
   "source": [
    "## Meta-stats"
   ]
  },
  {
   "cell_type": "code",
   "execution_count": 6,
   "metadata": {},
   "outputs": [],
   "source": [
    "no_jams, no_annotations = data_stats.no_processed_elements\n",
    "annotation_stats = data_stats._annotation_stats_ext"
   ]
  },
  {
   "cell_type": "code",
   "execution_count": 7,
   "metadata": {},
   "outputs": [
    {
     "data": {
      "text/markdown": [
       "The dataset contains 225 JAMS files: 225 audio JAMS and 0 score JAMS.\n",
       "In these ChoCo JAMS files, 871 different annotations were found: 225 chord annotations, 224 key_mode annotations, 225 segment_open annotations, 197 beat annotations."
      ],
      "text/plain": [
       "<IPython.core.display.Markdown object>"
      ]
     },
     "execution_count": 7,
     "metadata": {},
     "output_type": "execute_result"
    }
   ],
   "source": [
    "annotations_per_namespace = [f\"{extractor.no_processed_elements} {name} annotations\" for name, extractor in annotation_stats.items()]\n",
    "\n",
    "md(f\"The dataset contains {no_jams} JAMS files: {len(data_stats._durations['audio']['values'])} audio JAMS and {len(data_stats._durations['score']['values'])} score JAMS.\\n\"\n",
    "f\"In these ChoCo JAMS files, {no_annotations} different annotations were found: {', '.join(annotations_per_namespace)}.\")"
   ]
  },
  {
   "cell_type": "markdown",
   "metadata": {},
   "source": [
    "#### Identifiers"
   ]
  },
  {
   "cell_type": "code",
   "execution_count": 8,
   "metadata": {},
   "outputs": [
    {
     "data": {
      "text/markdown": [
       "In total, 0 identifiers were found, which cover 0.0% of the dataset."
      ],
      "text/plain": [
       "<IPython.core.display.Markdown object>"
      ]
     },
     "execution_count": 8,
     "metadata": {},
     "output_type": "execute_result"
    }
   ],
   "source": [
    "md(f\"In total, {data_stats._identifiers['sum']} identifiers were found, which cover {data_stats._identifiers['proportion']}% of the dataset.\")"
   ]
  },
  {
   "cell_type": "code",
   "execution_count": 9,
   "metadata": {},
   "outputs": [],
   "source": [
    "if data_stats._identifiers['sum'] > 0:\n",
    "    plot_counter(data_stats._identifiers['cnt'], \"resources\")"
   ]
  },
  {
   "cell_type": "markdown",
   "metadata": {},
   "source": [
    "#### Durations"
   ]
  },
  {
   "cell_type": "code",
   "execution_count": 10,
   "metadata": {},
   "outputs": [
    {
     "data": {
      "text/markdown": [
       "The average duration of audio pieces is 172.77904 ± 59.79496937467567 seconds.\n",
       " That of score, instead, is None ± None measures."
      ],
      "text/plain": [
       "<IPython.core.display.Markdown object>"
      ]
     },
     "execution_count": 10,
     "metadata": {},
     "output_type": "execute_result"
    }
   ],
   "source": [
    "md(f\"The average duration of audio pieces is {data_stats._durations['audio']['mean']} ± {data_stats._durations['audio']['std']} seconds.\\n That of score, instead, is {data_stats._durations['score']['mean']} ± {data_stats._durations['score']['std']} measures.\")\n",
    "\n",
    "# data_stats._durations[\"audio\"][\"values\"]"
   ]
  },
  {
   "cell_type": "code",
   "execution_count": 11,
   "metadata": {},
   "outputs": [
    {
     "data": {
      "image/png": "[encoded data removed]",
      "text/plain": [
       "<Figure size 720x288 with 1 Axes>"
      ]
     },
     "metadata": {},
     "output_type": "display_data"
    }
   ],
   "source": [
    "if data_stats._durations['audio']['values'] != []:\n",
    "    plot_histogram(data_stats._durations['audio']['values'],\n",
    "        \"seconds\", title=\"Duration of pieces (audio)\")"
   ]
  },
  {
   "cell_type": "code",
   "execution_count": 12,
   "metadata": {},
   "outputs": [],
   "source": [
    "if data_stats._durations['score']['values'] != []:\n",
    "    plot_histogram(data_stats._durations['score']['values'],\n",
    "        \"measures\", title=\"Duration of pieces (score)\")"
   ]
  },
  {
   "cell_type": "markdown",
   "metadata": {},
   "source": [
    "#### Composers and performers"
   ]
  },
  {
   "cell_type": "code",
   "execution_count": 13,
   "metadata": {},
   "outputs": [
    {
     "data": {
      "text/markdown": [
       "In the enriched metadata, 225 performers were found in the JAMS, which covers 1.0% of the whole dataset. Analogously, a total of  0 composers were found (0.0% coverage)."
      ],
      "text/plain": [
       "<IPython.core.display.Markdown object>"
      ]
     },
     "execution_count": 13,
     "metadata": {},
     "output_type": "execute_result"
    }
   ],
   "source": [
    "md(f\"In the enriched metadata, {data_stats._performers['sum']} performers were found in the JAMS, which covers {data_stats._performers['proportion']}% of the whole dataset. Analogously, a total of  {data_stats._composers['sum']} composers were found ({data_stats._composers['proportion']}% coverage).\")"
   ]
  },
  {
   "cell_type": "code",
   "execution_count": 14,
   "metadata": {},
   "outputs": [
    {
     "data": {
      "image/png": "[encoded data removed]",
      "text/plain": [
       "<Figure size 720x288 with 1 Axes>"
      ]
     },
     "metadata": {},
     "output_type": "display_data"
    }
   ],
   "source": [
    "if data_stats._performers['sum'] > 0:\n",
    "    plot_counter(data_stats._performers[\"cnt\"], \"performers\", first_n=10,\n",
    "                title=\"Performers occurrences\", horizontal=True)"
   ]
  },
  {
   "cell_type": "code",
   "execution_count": 15,
   "metadata": {},
   "outputs": [],
   "source": [
    "if data_stats._composers['sum'] > 0:\n",
    "    plot_counter(data_stats._composers[\"cnt\"], \"composers\", first_n=10,\n",
    "                title=\"Composers occurrences\", horizontal=True)"
   ]
  },
  {
   "cell_type": "markdown",
   "metadata": {},
   "source": [
    "## Content-stats\n"
   ]
  },
  {
   "cell_type": "code",
   "execution_count": 16,
   "metadata": {},
   "outputs": [
    {
     "name": "stdout",
     "output_type": "stream",
     "text": [
      "Choose one of these: ['chord', 'key_mode', 'segment_open', 'beat']\n"
     ]
    }
   ],
   "source": [
    "print(f\"Choose one of these: {list(annotation_stats.keys())}\")\n",
    "\n",
    "NAMESPACE = \"chord\"\n",
    "DESCRIPTION = \"chords\""
   ]
  },
  {
   "cell_type": "code",
   "execution_count": 17,
   "metadata": {},
   "outputs": [],
   "source": [
    "annotation_stats = data_stats._annotation_stats_ext[NAMESPACE]"
   ]
  },
  {
   "cell_type": "markdown",
   "metadata": {},
   "source": [
    "#### Annotators and annotation types"
   ]
  },
  {
   "cell_type": "code",
   "execution_count": 18,
   "metadata": {},
   "outputs": [
    {
     "data": {
      "text/plain": [
       "Counter({'expert_human': 225})"
      ]
     },
     "execution_count": 18,
     "metadata": {},
     "output_type": "execute_result"
    }
   ],
   "source": [
    "annotation_stats._annotation_type"
   ]
  },
  {
   "cell_type": "code",
   "execution_count": 19,
   "metadata": {},
   "outputs": [
    {
     "data": {
      "text/markdown": [
       "Number of annotators for which their identity is known: 0, covering 0.0% of chord annotations."
      ],
      "text/plain": [
       "<IPython.core.display.Markdown object>"
      ]
     },
     "execution_count": 19,
     "metadata": {},
     "output_type": "execute_result"
    }
   ],
   "source": [
    "all_annotators =  sum(annotation_stats._annotators['cnt'].values())\n",
    "real_annotators = sum([c for name, c \\\n",
    "    in annotation_stats._annotators['cnt'].items() if name != \"Unknown\"])\n",
    "\n",
    "md(f\"Number of annotators for which their identity is known: {real_annotators}, covering {annotation_stats._annotators['proportion']}% of {NAMESPACE} annotations.\")"
   ]
  },
  {
   "cell_type": "code",
   "execution_count": 20,
   "metadata": {},
   "outputs": [],
   "source": [
    "if real_annotators > 0:\n",
    "    plot_counter(annotation_stats._annotators['cnt'], \"annotator names\", first_n=10,\n",
    "                title=\"Annotators: top contributors\", horizontal=True)"
   ]
  },
  {
   "cell_type": "markdown",
   "metadata": {},
   "source": [
    "#### Observation occurrences"
   ]
  },
  {
   "cell_type": "code",
   "execution_count": 21,
   "metadata": {},
   "outputs": [
    {
     "data": {
      "text/markdown": [
       "Overall, there are 19736 chord occurrences/observations in the dataset, and an average annotation has 87.72 ± 38.00 chords. When looking at unique occurrences (measuring the diversity of the annotation values), there are 3000 unique occurrences. An annotation, on average, uses 13.33 ± 7.26 classes (unique chords)."
      ],
      "text/plain": [
       "<IPython.core.display.Markdown object>"
      ]
     },
     "execution_count": 21,
     "metadata": {},
     "output_type": "execute_result"
    }
   ],
   "source": [
    "total_occurrences = sum(annotation_stats._no_observations[\"values\"])\n",
    "total_occurrences_uniq = sum(annotation_stats._no_observations_uniq[\"values\"])\n",
    "\n",
    "md(f\"Overall, there are {total_occurrences} {NAMESPACE} occurrences/observations in the dataset, and an average annotation has {annotation_stats._no_observations['mean']:.2f} ± {annotation_stats._no_observations['std']:.2f} {DESCRIPTION}. When looking at unique occurrences (measuring the diversity of the annotation values), there are {total_occurrences_uniq} unique occurrences. An annotation, on average, uses {annotation_stats._no_observations_uniq['mean']:.2f} ± {annotation_stats._no_observations_uniq['std']:.2f} classes (unique {DESCRIPTION}).\")"
   ]
  },
  {
   "cell_type": "code",
   "execution_count": 22,
   "metadata": {},
   "outputs": [
    {
     "data": {
      "text/plain": [
       "<AxesSubplot:title={'center':'Number of chord observations in annotations'}, xlabel='chords', ylabel='Count'>"
      ]
     },
     "execution_count": 22,
     "metadata": {},
     "output_type": "execute_result"
    },
    {
     "data": {
      "image/png": "[encoded data removed]",
      "text/plain": [
       "<Figure size 720x288 with 1 Axes>"
      ]
     },
     "metadata": {},
     "output_type": "display_data"
    }
   ],
   "source": [
    "\n",
    "plot_histogram(annotation_stats._no_observations[\"values\"],\n",
    "    DESCRIPTION, title=f\"Number of {NAMESPACE} observations in annotations\")"
   ]
  },
  {
   "cell_type": "code",
   "execution_count": 23,
   "metadata": {},
   "outputs": [
    {
     "data": {
      "text/plain": [
       "<AxesSubplot:title={'center':'Number of unique chord classes in annotations'}, xlabel='chords', ylabel='Count'>"
      ]
     },
     "execution_count": 23,
     "metadata": {},
     "output_type": "execute_result"
    },
    {
     "data": {
      "image/png": "[encoded data removed]",
      "text/plain": [
       "<Figure size 720x288 with 1 Axes>"
      ]
     },
     "metadata": {},
     "output_type": "display_data"
    }
   ],
   "source": [
    "\n",
    "plot_histogram(annotation_stats._no_observations_uniq[\"values\"],\n",
    "    DESCRIPTION, title=f\"Number of unique {NAMESPACE} classes in annotations\")"
   ]
  },
  {
   "cell_type": "markdown",
   "metadata": {},
   "source": [
    "#### Observation values"
   ]
  },
  {
   "cell_type": "markdown",
   "metadata": {},
   "source": [
    "##### [Observation values] all, with no preprocessing"
   ]
  },
  {
   "cell_type": "code",
   "execution_count": 24,
   "metadata": {},
   "outputs": [
    {
     "data": {
      "text/plain": [
       "[('A', 1839),\n",
       " ('G', 1689),\n",
       " ('D', 1568),\n",
       " ('C', 1151),\n",
       " ('E', 1141),\n",
       " ('F', 598),\n",
       " ('N', 574),\n",
       " ('B', 532),\n",
       " ('A:min', 512),\n",
       " ('E:min', 448),\n",
       " ('Bb', 412),\n",
       " ('B:min', 361),\n",
       " ('F#:min', 314),\n",
       " ('D:min', 274),\n",
       " ('C:min', 252),\n",
       " ('Eb', 251),\n",
       " ('Ab', 235),\n",
       " ('F:min', 217),\n",
       " ('D/5', 206),\n",
       " ('G:7', 201)]"
      ]
     },
     "execution_count": 24,
     "metadata": {},
     "output_type": "execute_result"
    }
   ],
   "source": [
    "FIRST_N = 20\n",
    "\n",
    "# Occurrences of classes accumulated across the whole dataset: as if the dataset\n",
    "# is a unique annotation (e.g. a very long chord progression)\n",
    "annotation_stats._observation_cnt_all_abs.most_common(FIRST_N)"
   ]
  },
  {
   "cell_type": "code",
   "execution_count": 25,
   "metadata": {},
   "outputs": [
    {
     "data": {
      "text/plain": [
       "[('A', 0.09798162392356086),\n",
       " ('G', 0.0852635138812669),\n",
       " ('D', 0.0795699235918226),\n",
       " ('E', 0.06915777341893968),\n",
       " ('C', 0.06599456730893145),\n",
       " ('N', 0.03448283375889302),\n",
       " ('B', 0.03155382806000581),\n",
       " ('F', 0.0291760362263225),\n",
       " ('A:min', 0.02500342335962539),\n",
       " ('Bb', 0.02252702342462681),\n",
       " ('E:min', 0.021989900520533578),\n",
       " ('B:min', 0.018795597157297728),\n",
       " ('F#:min', 0.018361795008196787),\n",
       " ('G:7', 0.013307276329037835),\n",
       " ('D:min', 0.01299705051271006),\n",
       " ('D:7', 0.012194912215772168),\n",
       " ('C#:min', 0.010983516580728615),\n",
       " ('F#', 0.01092735625836903),\n",
       " ('Eb', 0.010412948925679682),\n",
       " ('Ab', 0.009984482014910362)]"
      ]
     },
     "execution_count": 25,
     "metadata": {},
     "output_type": "execute_result"
    }
   ],
   "source": [
    "# Relative occurrences of classes, first normalised per annotation, then aggregated\n",
    "annotation_stats._observation_cnt_all_rel.most_common(FIRST_N)"
   ]
  },
  {
   "cell_type": "code",
   "execution_count": 26,
   "metadata": {},
   "outputs": [
    {
     "data": {
      "text/plain": [
       "<AxesSubplot:title={'center':'Relative occurrences of chord classes per annotation'}, xlabel='count', ylabel='chords classes'>"
      ]
     },
     "execution_count": 26,
     "metadata": {},
     "output_type": "execute_result"
    },
    {
     "data": {
      "image/png": "[encoded data removed]",
      "text/plain": [
       "<Figure size 1080x360 with 2 Axes>"
      ]
     },
     "metadata": {},
     "output_type": "display_data"
    }
   ],
   "source": [
    "fig, ax = plt.subplots(ncols=2, figsize=(15, 5))\n",
    "\n",
    "plot_counter(annotation_stats._observation_cnt_all_abs,\n",
    "    f\"{DESCRIPTION} classes\", first_n=20, show_pcts=False, ax=ax[0],\n",
    "    title=f\"Absolute occurrences of {NAMESPACE} classes in the dataset\", horizontal=True)\n",
    "\n",
    "plot_counter(annotation_stats._observation_cnt_all_rel,\n",
    "    f\"{DESCRIPTION} classes\", first_n=20, show_pcts=False, ax=ax[1],\n",
    "    title=f\"Relative occurrences of {NAMESPACE} classes per annotation\", horizontal=True)"
   ]
  },
  {
   "cell_type": "markdown",
   "metadata": {},
   "source": [
    "##### [Observation values] after removal of consecutively repeated occurrences"
   ]
  },
  {
   "cell_type": "code",
   "execution_count": 27,
   "metadata": {},
   "outputs": [
    {
     "data": {
      "text/plain": [
       "[('A', 1697),\n",
       " ('G', 1576),\n",
       " ('D', 1482),\n",
       " ('C', 1107),\n",
       " ('E', 1072),\n",
       " ('F', 590),\n",
       " ('N', 552),\n",
       " ('B', 512),\n",
       " ('A:min', 490),\n",
       " ('E:min', 434),\n",
       " ('Bb', 382),\n",
       " ('B:min', 357),\n",
       " ('F#:min', 299),\n",
       " ('D:min', 264),\n",
       " ('C:min', 251),\n",
       " ('Eb', 247),\n",
       " ('Ab', 225),\n",
       " ('F:min', 217),\n",
       " ('D/5', 206),\n",
       " ('G:7', 196)]"
      ]
     },
     "execution_count": 27,
     "metadata": {},
     "output_type": "execute_result"
    }
   ],
   "source": [
    "annotation_stats._observation_cnt_norep_abs.most_common(FIRST_N)  # Absolute occurrences"
   ]
  },
  {
   "cell_type": "code",
   "execution_count": 28,
   "metadata": {},
   "outputs": [
    {
     "data": {
      "text/plain": [
       "[('A', 0.09502847768954968),\n",
       " ('G', 0.08326467159697759),\n",
       " ('D', 0.07892830481099328),\n",
       " ('E', 0.06779703051632162),\n",
       " ('C', 0.06585006984399136),\n",
       " ('N', 0.034596845361198864),\n",
       " ('B', 0.031473919048807274),\n",
       " ('F', 0.029718318708001037),\n",
       " ('A:min', 0.025060543666662615),\n",
       " ('E:min', 0.02207819808358042),\n",
       " ('Bb', 0.021880925659457828),\n",
       " ('B:min', 0.01957194164417563),\n",
       " ('F#:min', 0.018398404336206514),\n",
       " ('G:7', 0.013237392278112218),\n",
       " ('D:min', 0.012659370743746018),\n",
       " ('D:7', 0.012144326815171967),\n",
       " ('F#', 0.011427133579630412),\n",
       " ('C#:min', 0.011054815223137629),\n",
       " ('Eb', 0.010541591414092163),\n",
       " ('Ab', 0.009883297446512486)]"
      ]
     },
     "execution_count": 28,
     "metadata": {},
     "output_type": "execute_result"
    }
   ],
   "source": [
    "annotation_stats._observation_cnt_norep_rel.most_common(FIRST_N)  # Relative occurrences"
   ]
  },
  {
   "cell_type": "code",
   "execution_count": 29,
   "metadata": {},
   "outputs": [
    {
     "data": {
      "text/plain": [
       "<AxesSubplot:title={'center':'Relative occurrences of chord classes per annotation (no repetitions)'}, xlabel='count', ylabel='chords classes'>"
      ]
     },
     "execution_count": 29,
     "metadata": {},
     "output_type": "execute_result"
    },
    {
     "data": {
      "image/png": "[encoded data removed]",
      "text/plain": [
       "<Figure size 1080x360 with 2 Axes>"
      ]
     },
     "metadata": {},
     "output_type": "display_data"
    }
   ],
   "source": [
    "fig, ax = plt.subplots(ncols=2, figsize=(15, 5))\n",
    "\n",
    "plot_counter(annotation_stats._observation_cnt_norep_abs,\n",
    "    f\"{DESCRIPTION} classes\", first_n=20, show_pcts=False, ax=ax[0],\n",
    "    title=f\"Absolute occurrences of {NAMESPACE} classes in the dataset (no repetitions)\", horizontal=True)\n",
    "\n",
    "plot_counter(annotation_stats._observation_cnt_norep_rel,\n",
    "    f\"{DESCRIPTION} classes\", first_n=20, show_pcts=False, ax=ax[1],\n",
    "    title=f\"Relative occurrences of {NAMESPACE} classes per annotation (no repetitions)\", horizontal=True)"
   ]
  },
  {
   "cell_type": "markdown",
   "metadata": {},
   "source": [
    "##### Duration of observations"
   ]
  },
  {
   "cell_type": "code",
   "execution_count": 30,
   "metadata": {},
   "outputs": [
    {
     "data": {
      "text/markdown": [
       "The average duration of chord observations in audio and score JAMS is: 2.2933759204877524 ± 1.59818607019995 seconds and None ± None beats."
      ],
      "text/plain": [
       "<IPython.core.display.Markdown object>"
      ]
     },
     "execution_count": 30,
     "metadata": {},
     "output_type": "execute_result"
    }
   ],
   "source": [
    "md(f\"The average duration of {NAMESPACE} observations in audio and score JAMS is: {annotation_stats._observation_dur_avgs['audio']['mean']} ± {annotation_stats._observation_dur_avgs['audio']['std']} seconds and {annotation_stats._observation_dur_avgs['score']['mean']} ± {annotation_stats._observation_dur_avgs['score']['std']} beats.\")"
   ]
  },
  {
   "cell_type": "code",
   "execution_count": 31,
   "metadata": {},
   "outputs": [
    {
     "data": {
      "image/png": "[encoded data removed]",
      "text/plain": [
       "<Figure size 720x288 with 1 Axes>"
      ]
     },
     "metadata": {},
     "output_type": "display_data"
    }
   ],
   "source": [
    "if len(annotation_stats._observation_dur_avgs['audio'][\"values\"]) > 0:\n",
    "    plot_histogram(annotation_stats._observation_dur_avgs['audio'][\"values\"],\n",
    "        \"seconds\", title=f\"Average duration of {NAMESPACE} observations (audio)\")"
   ]
  },
  {
   "cell_type": "code",
   "execution_count": 32,
   "metadata": {},
   "outputs": [],
   "source": [
    "if len(annotation_stats._observation_dur_avgs['score'][\"values\"]) > 0:\n",
    "    plot_histogram(annotation_stats._observation_dur_avgs['score'][\"values\"],\n",
    "        \"beats\", title=f\"Average duration of {NAMESPACE} observations (score)\")"
   ]
  },
  {
   "cell_type": "markdown",
   "metadata": {},
   "source": [
    "#### Patterns"
   ]
  },
  {
   "cell_type": "markdown",
   "metadata": {},
   "source": [
    "##### Patterns: 2-gram"
   ]
  },
  {
   "cell_type": "code",
   "execution_count": 33,
   "metadata": {},
   "outputs": [
    {
     "data": {
      "text/html": [
       "<div>\n",
       "<style scoped>\n",
       "    .dataframe tbody tr th:only-of-type {\n",
       "        vertical-align: middle;\n",
       "    }\n",
       "\n",
       "    .dataframe tbody tr th {\n",
       "        vertical-align: top;\n",
       "    }\n",
       "\n",
       "    .dataframe thead th {\n",
       "        text-align: right;\n",
       "    }\n",
       "</style>\n",
       "<table border=\"1\" class=\"dataframe\">\n",
       "  <thead>\n",
       "    <tr style=\"text-align: right;\">\n",
       "      <th></th>\n",
       "      <th>chord_1</th>\n",
       "      <th>chord_2</th>\n",
       "      <th>cnt</th>\n",
       "    </tr>\n",
       "  </thead>\n",
       "  <tbody>\n",
       "    <tr>\n",
       "      <th>0</th>\n",
       "      <td>A</td>\n",
       "      <td>D</td>\n",
       "      <td>456</td>\n",
       "    </tr>\n",
       "    <tr>\n",
       "      <th>1</th>\n",
       "      <td>D</td>\n",
       "      <td>G</td>\n",
       "      <td>452</td>\n",
       "    </tr>\n",
       "    <tr>\n",
       "      <th>2</th>\n",
       "      <td>E</td>\n",
       "      <td>A</td>\n",
       "      <td>362</td>\n",
       "    </tr>\n",
       "    <tr>\n",
       "      <th>3</th>\n",
       "      <td>G</td>\n",
       "      <td>C</td>\n",
       "      <td>329</td>\n",
       "    </tr>\n",
       "    <tr>\n",
       "      <th>4</th>\n",
       "      <td>D</td>\n",
       "      <td>A</td>\n",
       "      <td>325</td>\n",
       "    </tr>\n",
       "    <tr>\n",
       "      <th>5</th>\n",
       "      <td>A</td>\n",
       "      <td>E</td>\n",
       "      <td>315</td>\n",
       "    </tr>\n",
       "    <tr>\n",
       "      <th>6</th>\n",
       "      <td>G</td>\n",
       "      <td>D</td>\n",
       "      <td>284</td>\n",
       "    </tr>\n",
       "    <tr>\n",
       "      <th>7</th>\n",
       "      <td>C</td>\n",
       "      <td>G</td>\n",
       "      <td>274</td>\n",
       "    </tr>\n",
       "    <tr>\n",
       "      <th>8</th>\n",
       "      <td>B</td>\n",
       "      <td>E</td>\n",
       "      <td>204</td>\n",
       "    </tr>\n",
       "    <tr>\n",
       "      <th>9</th>\n",
       "      <td>G</td>\n",
       "      <td>A</td>\n",
       "      <td>196</td>\n",
       "    </tr>\n",
       "    <tr>\n",
       "      <th>10</th>\n",
       "      <td>D</td>\n",
       "      <td>E</td>\n",
       "      <td>169</td>\n",
       "    </tr>\n",
       "    <tr>\n",
       "      <th>11</th>\n",
       "      <td>F</td>\n",
       "      <td>G</td>\n",
       "      <td>132</td>\n",
       "    </tr>\n",
       "    <tr>\n",
       "      <th>12</th>\n",
       "      <td>C</td>\n",
       "      <td>D</td>\n",
       "      <td>131</td>\n",
       "    </tr>\n",
       "    <tr>\n",
       "      <th>13</th>\n",
       "      <td>D/5</td>\n",
       "      <td>A</td>\n",
       "      <td>122</td>\n",
       "    </tr>\n",
       "    <tr>\n",
       "      <th>14</th>\n",
       "      <td>C</td>\n",
       "      <td>F</td>\n",
       "      <td>116</td>\n",
       "    </tr>\n",
       "    <tr>\n",
       "      <th>15</th>\n",
       "      <td>F</td>\n",
       "      <td>C</td>\n",
       "      <td>108</td>\n",
       "    </tr>\n",
       "    <tr>\n",
       "      <th>16</th>\n",
       "      <td>A</td>\n",
       "      <td>D/5</td>\n",
       "      <td>107</td>\n",
       "    </tr>\n",
       "    <tr>\n",
       "      <th>17</th>\n",
       "      <td>E</td>\n",
       "      <td>B</td>\n",
       "      <td>93</td>\n",
       "    </tr>\n",
       "    <tr>\n",
       "      <th>18</th>\n",
       "      <td>A</td>\n",
       "      <td>B</td>\n",
       "      <td>93</td>\n",
       "    </tr>\n",
       "    <tr>\n",
       "      <th>19</th>\n",
       "      <td>E:min</td>\n",
       "      <td>A</td>\n",
       "      <td>86</td>\n",
       "    </tr>\n",
       "  </tbody>\n",
       "</table>\n",
       "</div>"
      ],
      "text/plain": [
       "   chord_1 chord_2  cnt\n",
       "0        A       D  456\n",
       "1        D       G  452\n",
       "2        E       A  362\n",
       "3        G       C  329\n",
       "4        D       A  325\n",
       "5        A       E  315\n",
       "6        G       D  284\n",
       "7        C       G  274\n",
       "8        B       E  204\n",
       "9        G       A  196\n",
       "10       D       E  169\n",
       "11       F       G  132\n",
       "12       C       D  131\n",
       "13     D/5       A  122\n",
       "14       C       F  116\n",
       "15       F       C  108\n",
       "16       A     D/5  107\n",
       "17       E       B   93\n",
       "18       A       B   93\n",
       "19   E:min       A   86"
      ]
     },
     "execution_count": 33,
     "metadata": {},
     "output_type": "execute_result"
    }
   ],
   "source": [
    "# Absolute occurrences of 2-gram observations\n",
    "create_ngram_df(annotation_stats._observation_cnt_2g_abs, name=NAMESPACE, first_n=FIRST_N)\n"
   ]
  },
  {
   "cell_type": "code",
   "execution_count": 34,
   "metadata": {},
   "outputs": [
    {
     "data": {
      "text/html": [
       "<div>\n",
       "<style scoped>\n",
       "    .dataframe tbody tr th:only-of-type {\n",
       "        vertical-align: middle;\n",
       "    }\n",
       "\n",
       "    .dataframe tbody tr th {\n",
       "        vertical-align: top;\n",
       "    }\n",
       "\n",
       "    .dataframe thead th {\n",
       "        text-align: right;\n",
       "    }\n",
       "</style>\n",
       "<table border=\"1\" class=\"dataframe\">\n",
       "  <thead>\n",
       "    <tr style=\"text-align: right;\">\n",
       "      <th></th>\n",
       "      <th>chord_1</th>\n",
       "      <th>chord_2</th>\n",
       "      <th>cnt</th>\n",
       "    </tr>\n",
       "  </thead>\n",
       "  <tbody>\n",
       "    <tr>\n",
       "      <th>0</th>\n",
       "      <td>A</td>\n",
       "      <td>D</td>\n",
       "      <td>0.024067</td>\n",
       "    </tr>\n",
       "    <tr>\n",
       "      <th>1</th>\n",
       "      <td>D</td>\n",
       "      <td>G</td>\n",
       "      <td>0.023103</td>\n",
       "    </tr>\n",
       "    <tr>\n",
       "      <th>2</th>\n",
       "      <td>E</td>\n",
       "      <td>A</td>\n",
       "      <td>0.022679</td>\n",
       "    </tr>\n",
       "    <tr>\n",
       "      <th>3</th>\n",
       "      <td>A</td>\n",
       "      <td>E</td>\n",
       "      <td>0.020833</td>\n",
       "    </tr>\n",
       "    <tr>\n",
       "      <th>4</th>\n",
       "      <td>G</td>\n",
       "      <td>C</td>\n",
       "      <td>0.019365</td>\n",
       "    </tr>\n",
       "    <tr>\n",
       "      <th>5</th>\n",
       "      <td>D</td>\n",
       "      <td>A</td>\n",
       "      <td>0.018376</td>\n",
       "    </tr>\n",
       "    <tr>\n",
       "      <th>6</th>\n",
       "      <td>C</td>\n",
       "      <td>G</td>\n",
       "      <td>0.016451</td>\n",
       "    </tr>\n",
       "    <tr>\n",
       "      <th>7</th>\n",
       "      <td>G</td>\n",
       "      <td>D</td>\n",
       "      <td>0.014624</td>\n",
       "    </tr>\n",
       "    <tr>\n",
       "      <th>8</th>\n",
       "      <td>B</td>\n",
       "      <td>E</td>\n",
       "      <td>0.013748</td>\n",
       "    </tr>\n",
       "    <tr>\n",
       "      <th>9</th>\n",
       "      <td>G</td>\n",
       "      <td>A</td>\n",
       "      <td>0.009921</td>\n",
       "    </tr>\n",
       "    <tr>\n",
       "      <th>10</th>\n",
       "      <td>D</td>\n",
       "      <td>E</td>\n",
       "      <td>0.009822</td>\n",
       "    </tr>\n",
       "    <tr>\n",
       "      <th>11</th>\n",
       "      <td>F</td>\n",
       "      <td>G</td>\n",
       "      <td>0.007334</td>\n",
       "    </tr>\n",
       "    <tr>\n",
       "      <th>12</th>\n",
       "      <td>C</td>\n",
       "      <td>F</td>\n",
       "      <td>0.006930</td>\n",
       "    </tr>\n",
       "    <tr>\n",
       "      <th>13</th>\n",
       "      <td>E</td>\n",
       "      <td>B</td>\n",
       "      <td>0.006396</td>\n",
       "    </tr>\n",
       "    <tr>\n",
       "      <th>14</th>\n",
       "      <td>F</td>\n",
       "      <td>C</td>\n",
       "      <td>0.006393</td>\n",
       "    </tr>\n",
       "    <tr>\n",
       "      <th>15</th>\n",
       "      <td>C</td>\n",
       "      <td>D</td>\n",
       "      <td>0.006256</td>\n",
       "    </tr>\n",
       "    <tr>\n",
       "      <th>16</th>\n",
       "      <td>E</td>\n",
       "      <td>D</td>\n",
       "      <td>0.005381</td>\n",
       "    </tr>\n",
       "    <tr>\n",
       "      <th>17</th>\n",
       "      <td>A</td>\n",
       "      <td>B</td>\n",
       "      <td>0.005304</td>\n",
       "    </tr>\n",
       "    <tr>\n",
       "      <th>18</th>\n",
       "      <td>A</td>\n",
       "      <td>G</td>\n",
       "      <td>0.004931</td>\n",
       "    </tr>\n",
       "    <tr>\n",
       "      <th>19</th>\n",
       "      <td>D/5</td>\n",
       "      <td>A</td>\n",
       "      <td>0.004717</td>\n",
       "    </tr>\n",
       "  </tbody>\n",
       "</table>\n",
       "</div>"
      ],
      "text/plain": [
       "   chord_1 chord_2       cnt\n",
       "0        A       D  0.024067\n",
       "1        D       G  0.023103\n",
       "2        E       A  0.022679\n",
       "3        A       E  0.020833\n",
       "4        G       C  0.019365\n",
       "5        D       A  0.018376\n",
       "6        C       G  0.016451\n",
       "7        G       D  0.014624\n",
       "8        B       E  0.013748\n",
       "9        G       A  0.009921\n",
       "10       D       E  0.009822\n",
       "11       F       G  0.007334\n",
       "12       C       F  0.006930\n",
       "13       E       B  0.006396\n",
       "14       F       C  0.006393\n",
       "15       C       D  0.006256\n",
       "16       E       D  0.005381\n",
       "17       A       B  0.005304\n",
       "18       A       G  0.004931\n",
       "19     D/5       A  0.004717"
      ]
     },
     "execution_count": 34,
     "metadata": {},
     "output_type": "execute_result"
    }
   ],
   "source": [
    "# Relative occurrences of 2-gram observations\n",
    "create_ngram_df(annotation_stats._observation_cnt_2g_rel, name=NAMESPACE, first_n=FIRST_N)"
   ]
  },
  {
   "cell_type": "code",
   "execution_count": 35,
   "metadata": {},
   "outputs": [
    {
     "data": {
      "text/plain": [
       "<AxesSubplot:title={'center':'Relative occurrences of chord 2-grams per annotation'}, xlabel='count', ylabel='chords 2-grams'>"
      ]
     },
     "execution_count": 35,
     "metadata": {},
     "output_type": "execute_result"
    },
    {
     "data": {
      "image/png": "[encoded data removed]",
      "text/plain": [
       "<Figure size 1080x360 with 2 Axes>"
      ]
     },
     "metadata": {},
     "output_type": "display_data"
    }
   ],
   "source": [
    "fig, ax = plt.subplots(ncols=2, figsize=(15, 5))\n",
    "\n",
    "plot_counter(annotation_stats._observation_cnt_2g_abs,\n",
    "    f\"{DESCRIPTION} 2-grams\", first_n=FIRST_N, show_pcts=False, ax=ax[0],\n",
    "    title=f\"Absolute occurrences of {NAMESPACE} 2-grams in the dataset\", horizontal=True)\n",
    "\n",
    "plot_counter(annotation_stats._observation_cnt_2g_rel,\n",
    "    f\"{DESCRIPTION} 2-grams\", first_n=FIRST_N, show_pcts=False, ax=ax[1],\n",
    "    title=f\"Relative occurrences of {NAMESPACE} 2-grams per annotation\", horizontal=True)"
   ]
  },
  {
   "cell_type": "markdown",
   "metadata": {},
   "source": [
    "##### Patterns: 3-gram"
   ]
  },
  {
   "cell_type": "code",
   "execution_count": 36,
   "metadata": {},
   "outputs": [
    {
     "data": {
      "text/html": [
       "<div>\n",
       "<style scoped>\n",
       "    .dataframe tbody tr th:only-of-type {\n",
       "        vertical-align: middle;\n",
       "    }\n",
       "\n",
       "    .dataframe tbody tr th {\n",
       "        vertical-align: top;\n",
       "    }\n",
       "\n",
       "    .dataframe thead th {\n",
       "        text-align: right;\n",
       "    }\n",
       "</style>\n",
       "<table border=\"1\" class=\"dataframe\">\n",
       "  <thead>\n",
       "    <tr style=\"text-align: right;\">\n",
       "      <th></th>\n",
       "      <th>chord_1</th>\n",
       "      <th>chord_2</th>\n",
       "      <th>chord_3</th>\n",
       "      <th>cnt</th>\n",
       "    </tr>\n",
       "  </thead>\n",
       "  <tbody>\n",
       "    <tr>\n",
       "      <th>0</th>\n",
       "      <td>A</td>\n",
       "      <td>D</td>\n",
       "      <td>A</td>\n",
       "      <td>166</td>\n",
       "    </tr>\n",
       "    <tr>\n",
       "      <th>1</th>\n",
       "      <td>D</td>\n",
       "      <td>G</td>\n",
       "      <td>D</td>\n",
       "      <td>155</td>\n",
       "    </tr>\n",
       "    <tr>\n",
       "      <th>2</th>\n",
       "      <td>G</td>\n",
       "      <td>D</td>\n",
       "      <td>G</td>\n",
       "      <td>150</td>\n",
       "    </tr>\n",
       "    <tr>\n",
       "      <th>3</th>\n",
       "      <td>E</td>\n",
       "      <td>A</td>\n",
       "      <td>E</td>\n",
       "      <td>133</td>\n",
       "    </tr>\n",
       "    <tr>\n",
       "      <th>4</th>\n",
       "      <td>D</td>\n",
       "      <td>A</td>\n",
       "      <td>D</td>\n",
       "      <td>121</td>\n",
       "    </tr>\n",
       "    <tr>\n",
       "      <th>5</th>\n",
       "      <td>G</td>\n",
       "      <td>C</td>\n",
       "      <td>G</td>\n",
       "      <td>118</td>\n",
       "    </tr>\n",
       "    <tr>\n",
       "      <th>6</th>\n",
       "      <td>A</td>\n",
       "      <td>E</td>\n",
       "      <td>A</td>\n",
       "      <td>116</td>\n",
       "    </tr>\n",
       "    <tr>\n",
       "      <th>7</th>\n",
       "      <td>C</td>\n",
       "      <td>G</td>\n",
       "      <td>C</td>\n",
       "      <td>105</td>\n",
       "    </tr>\n",
       "    <tr>\n",
       "      <th>8</th>\n",
       "      <td>E</td>\n",
       "      <td>A</td>\n",
       "      <td>D</td>\n",
       "      <td>102</td>\n",
       "    </tr>\n",
       "    <tr>\n",
       "      <th>9</th>\n",
       "      <td>G</td>\n",
       "      <td>A</td>\n",
       "      <td>D</td>\n",
       "      <td>94</td>\n",
       "    </tr>\n",
       "    <tr>\n",
       "      <th>10</th>\n",
       "      <td>D</td>\n",
       "      <td>E</td>\n",
       "      <td>A</td>\n",
       "      <td>92</td>\n",
       "    </tr>\n",
       "    <tr>\n",
       "      <th>11</th>\n",
       "      <td>A</td>\n",
       "      <td>D/5</td>\n",
       "      <td>A</td>\n",
       "      <td>84</td>\n",
       "    </tr>\n",
       "    <tr>\n",
       "      <th>12</th>\n",
       "      <td>A</td>\n",
       "      <td>D</td>\n",
       "      <td>G</td>\n",
       "      <td>83</td>\n",
       "    </tr>\n",
       "    <tr>\n",
       "      <th>13</th>\n",
       "      <td>C</td>\n",
       "      <td>D</td>\n",
       "      <td>G</td>\n",
       "      <td>83</td>\n",
       "    </tr>\n",
       "    <tr>\n",
       "      <th>14</th>\n",
       "      <td>A</td>\n",
       "      <td>D</td>\n",
       "      <td>E</td>\n",
       "      <td>77</td>\n",
       "    </tr>\n",
       "    <tr>\n",
       "      <th>15</th>\n",
       "      <td>D/5</td>\n",
       "      <td>A</td>\n",
       "      <td>D/5</td>\n",
       "      <td>77</td>\n",
       "    </tr>\n",
       "    <tr>\n",
       "      <th>16</th>\n",
       "      <td>D</td>\n",
       "      <td>G</td>\n",
       "      <td>A</td>\n",
       "      <td>72</td>\n",
       "    </tr>\n",
       "    <tr>\n",
       "      <th>17</th>\n",
       "      <td>D</td>\n",
       "      <td>A</td>\n",
       "      <td>E</td>\n",
       "      <td>70</td>\n",
       "    </tr>\n",
       "    <tr>\n",
       "      <th>18</th>\n",
       "      <td>D</td>\n",
       "      <td>G</td>\n",
       "      <td>C</td>\n",
       "      <td>64</td>\n",
       "    </tr>\n",
       "    <tr>\n",
       "      <th>19</th>\n",
       "      <td>B</td>\n",
       "      <td>E</td>\n",
       "      <td>A</td>\n",
       "      <td>52</td>\n",
       "    </tr>\n",
       "  </tbody>\n",
       "</table>\n",
       "</div>"
      ],
      "text/plain": [
       "   chord_1 chord_2 chord_3  cnt\n",
       "0        A       D       A  166\n",
       "1        D       G       D  155\n",
       "2        G       D       G  150\n",
       "3        E       A       E  133\n",
       "4        D       A       D  121\n",
       "5        G       C       G  118\n",
       "6        A       E       A  116\n",
       "7        C       G       C  105\n",
       "8        E       A       D  102\n",
       "9        G       A       D   94\n",
       "10       D       E       A   92\n",
       "11       A     D/5       A   84\n",
       "12       A       D       G   83\n",
       "13       C       D       G   83\n",
       "14       A       D       E   77\n",
       "15     D/5       A     D/5   77\n",
       "16       D       G       A   72\n",
       "17       D       A       E   70\n",
       "18       D       G       C   64\n",
       "19       B       E       A   52"
      ]
     },
     "execution_count": 36,
     "metadata": {},
     "output_type": "execute_result"
    }
   ],
   "source": [
    "# Absolute occurrences of 3-gram observations\n",
    "create_ngram_df(annotation_stats._observation_cnt_3g_abs, name=NAMESPACE, first_n=FIRST_N)\n"
   ]
  },
  {
   "cell_type": "code",
   "execution_count": 37,
   "metadata": {},
   "outputs": [
    {
     "data": {
      "text/html": [
       "<div>\n",
       "<style scoped>\n",
       "    .dataframe tbody tr th:only-of-type {\n",
       "        vertical-align: middle;\n",
       "    }\n",
       "\n",
       "    .dataframe tbody tr th {\n",
       "        vertical-align: top;\n",
       "    }\n",
       "\n",
       "    .dataframe thead th {\n",
       "        text-align: right;\n",
       "    }\n",
       "</style>\n",
       "<table border=\"1\" class=\"dataframe\">\n",
       "  <thead>\n",
       "    <tr style=\"text-align: right;\">\n",
       "      <th></th>\n",
       "      <th>chord_1</th>\n",
       "      <th>chord_2</th>\n",
       "      <th>chord_3</th>\n",
       "      <th>cnt</th>\n",
       "    </tr>\n",
       "  </thead>\n",
       "  <tbody>\n",
       "    <tr>\n",
       "      <th>0</th>\n",
       "      <td>A</td>\n",
       "      <td>D</td>\n",
       "      <td>A</td>\n",
       "      <td>0.009442</td>\n",
       "    </tr>\n",
       "    <tr>\n",
       "      <th>1</th>\n",
       "      <td>E</td>\n",
       "      <td>A</td>\n",
       "      <td>E</td>\n",
       "      <td>0.008854</td>\n",
       "    </tr>\n",
       "    <tr>\n",
       "      <th>2</th>\n",
       "      <td>G</td>\n",
       "      <td>D</td>\n",
       "      <td>G</td>\n",
       "      <td>0.007971</td>\n",
       "    </tr>\n",
       "    <tr>\n",
       "      <th>3</th>\n",
       "      <td>G</td>\n",
       "      <td>C</td>\n",
       "      <td>G</td>\n",
       "      <td>0.007852</td>\n",
       "    </tr>\n",
       "    <tr>\n",
       "      <th>4</th>\n",
       "      <td>A</td>\n",
       "      <td>E</td>\n",
       "      <td>A</td>\n",
       "      <td>0.007410</td>\n",
       "    </tr>\n",
       "    <tr>\n",
       "      <th>5</th>\n",
       "      <td>D</td>\n",
       "      <td>G</td>\n",
       "      <td>D</td>\n",
       "      <td>0.007294</td>\n",
       "    </tr>\n",
       "    <tr>\n",
       "      <th>6</th>\n",
       "      <td>C</td>\n",
       "      <td>G</td>\n",
       "      <td>C</td>\n",
       "      <td>0.006636</td>\n",
       "    </tr>\n",
       "    <tr>\n",
       "      <th>7</th>\n",
       "      <td>D</td>\n",
       "      <td>A</td>\n",
       "      <td>D</td>\n",
       "      <td>0.006497</td>\n",
       "    </tr>\n",
       "    <tr>\n",
       "      <th>8</th>\n",
       "      <td>E</td>\n",
       "      <td>A</td>\n",
       "      <td>D</td>\n",
       "      <td>0.005449</td>\n",
       "    </tr>\n",
       "    <tr>\n",
       "      <th>9</th>\n",
       "      <td>D</td>\n",
       "      <td>E</td>\n",
       "      <td>A</td>\n",
       "      <td>0.005413</td>\n",
       "    </tr>\n",
       "    <tr>\n",
       "      <th>10</th>\n",
       "      <td>G</td>\n",
       "      <td>A</td>\n",
       "      <td>D</td>\n",
       "      <td>0.004592</td>\n",
       "    </tr>\n",
       "    <tr>\n",
       "      <th>11</th>\n",
       "      <td>D</td>\n",
       "      <td>A</td>\n",
       "      <td>E</td>\n",
       "      <td>0.004501</td>\n",
       "    </tr>\n",
       "    <tr>\n",
       "      <th>12</th>\n",
       "      <td>D</td>\n",
       "      <td>G</td>\n",
       "      <td>C</td>\n",
       "      <td>0.004013</td>\n",
       "    </tr>\n",
       "    <tr>\n",
       "      <th>13</th>\n",
       "      <td>C</td>\n",
       "      <td>D</td>\n",
       "      <td>G</td>\n",
       "      <td>0.003973</td>\n",
       "    </tr>\n",
       "    <tr>\n",
       "      <th>14</th>\n",
       "      <td>A</td>\n",
       "      <td>D</td>\n",
       "      <td>G</td>\n",
       "      <td>0.003950</td>\n",
       "    </tr>\n",
       "    <tr>\n",
       "      <th>15</th>\n",
       "      <td>A</td>\n",
       "      <td>D</td>\n",
       "      <td>E</td>\n",
       "      <td>0.003760</td>\n",
       "    </tr>\n",
       "    <tr>\n",
       "      <th>16</th>\n",
       "      <td>B</td>\n",
       "      <td>E</td>\n",
       "      <td>A</td>\n",
       "      <td>0.003568</td>\n",
       "    </tr>\n",
       "    <tr>\n",
       "      <th>17</th>\n",
       "      <td>D</td>\n",
       "      <td>G</td>\n",
       "      <td>A</td>\n",
       "      <td>0.003497</td>\n",
       "    </tr>\n",
       "    <tr>\n",
       "      <th>18</th>\n",
       "      <td>E</td>\n",
       "      <td>D</td>\n",
       "      <td>A</td>\n",
       "      <td>0.003104</td>\n",
       "    </tr>\n",
       "    <tr>\n",
       "      <th>19</th>\n",
       "      <td>C</td>\n",
       "      <td>G</td>\n",
       "      <td>D</td>\n",
       "      <td>0.002872</td>\n",
       "    </tr>\n",
       "  </tbody>\n",
       "</table>\n",
       "</div>"
      ],
      "text/plain": [
       "   chord_1 chord_2 chord_3       cnt\n",
       "0        A       D       A  0.009442\n",
       "1        E       A       E  0.008854\n",
       "2        G       D       G  0.007971\n",
       "3        G       C       G  0.007852\n",
       "4        A       E       A  0.007410\n",
       "5        D       G       D  0.007294\n",
       "6        C       G       C  0.006636\n",
       "7        D       A       D  0.006497\n",
       "8        E       A       D  0.005449\n",
       "9        D       E       A  0.005413\n",
       "10       G       A       D  0.004592\n",
       "11       D       A       E  0.004501\n",
       "12       D       G       C  0.004013\n",
       "13       C       D       G  0.003973\n",
       "14       A       D       G  0.003950\n",
       "15       A       D       E  0.003760\n",
       "16       B       E       A  0.003568\n",
       "17       D       G       A  0.003497\n",
       "18       E       D       A  0.003104\n",
       "19       C       G       D  0.002872"
      ]
     },
     "execution_count": 37,
     "metadata": {},
     "output_type": "execute_result"
    }
   ],
   "source": [
    "# Relative occurrences of 3-gram observations\n",
    "create_ngram_df(annotation_stats._observation_cnt_3g_rel, name=NAMESPACE, first_n=FIRST_N)"
   ]
  },
  {
   "cell_type": "code",
   "execution_count": 38,
   "metadata": {},
   "outputs": [
    {
     "data": {
      "image/png": "[encoded data removed]",
      "text/plain": [
       "<Figure size 1080x360 with 2 Axes>"
      ]
     },
     "metadata": {},
     "output_type": "display_data"
    }
   ],
   "source": [
    "fig, ax = plt.subplots(ncols=2, figsize=(15, 5))\n",
    "\n",
    "plot_counter(annotation_stats._observation_cnt_3g_abs,\n",
    "    f\"{DESCRIPTION} 3-grams\", first_n=FIRST_N, show_pcts=False, ax=ax[0],\n",
    "    title=f\"Absolute occurrences of {NAMESPACE} 3-grams in the dataset\", horizontal=True)\n",
    "\n",
    "plot_counter(annotation_stats._observation_cnt_3g_rel,\n",
    "    f\"{DESCRIPTION} 3-grams\", first_n=FIRST_N, show_pcts=False, ax=ax[1],\n",
    "    title=f\"Relative occurrences of {NAMESPACE} 3-grams per annotation\", horizontal=True)\n",
    "\n",
    "plt.tight_layout()"
   ]
  },
  {
   "cell_type": "markdown",
   "metadata": {},
   "source": [
    "##### Patterns: 4-grams"
   ]
  },
  {
   "cell_type": "code",
   "execution_count": 39,
   "metadata": {},
   "outputs": [
    {
     "data": {
      "text/html": [
       "<div>\n",
       "<style scoped>\n",
       "    .dataframe tbody tr th:only-of-type {\n",
       "        vertical-align: middle;\n",
       "    }\n",
       "\n",
       "    .dataframe tbody tr th {\n",
       "        vertical-align: top;\n",
       "    }\n",
       "\n",
       "    .dataframe thead th {\n",
       "        text-align: right;\n",
       "    }\n",
       "</style>\n",
       "<table border=\"1\" class=\"dataframe\">\n",
       "  <thead>\n",
       "    <tr style=\"text-align: right;\">\n",
       "      <th></th>\n",
       "      <th>chord_1</th>\n",
       "      <th>chord_2</th>\n",
       "      <th>chord_3</th>\n",
       "      <th>chord_4</th>\n",
       "      <th>cnt</th>\n",
       "    </tr>\n",
       "  </thead>\n",
       "  <tbody>\n",
       "    <tr>\n",
       "      <th>0</th>\n",
       "      <td>D</td>\n",
       "      <td>G</td>\n",
       "      <td>D</td>\n",
       "      <td>G</td>\n",
       "      <td>122</td>\n",
       "    </tr>\n",
       "    <tr>\n",
       "      <th>1</th>\n",
       "      <td>D</td>\n",
       "      <td>A</td>\n",
       "      <td>D</td>\n",
       "      <td>A</td>\n",
       "      <td>90</td>\n",
       "    </tr>\n",
       "    <tr>\n",
       "      <th>2</th>\n",
       "      <td>G</td>\n",
       "      <td>D</td>\n",
       "      <td>G</td>\n",
       "      <td>D</td>\n",
       "      <td>89</td>\n",
       "    </tr>\n",
       "    <tr>\n",
       "      <th>3</th>\n",
       "      <td>A</td>\n",
       "      <td>D</td>\n",
       "      <td>A</td>\n",
       "      <td>D</td>\n",
       "      <td>81</td>\n",
       "    </tr>\n",
       "    <tr>\n",
       "      <th>4</th>\n",
       "      <td>A</td>\n",
       "      <td>D/5</td>\n",
       "      <td>A</td>\n",
       "      <td>D/5</td>\n",
       "      <td>76</td>\n",
       "    </tr>\n",
       "    <tr>\n",
       "      <th>5</th>\n",
       "      <td>A</td>\n",
       "      <td>E</td>\n",
       "      <td>A</td>\n",
       "      <td>E</td>\n",
       "      <td>68</td>\n",
       "    </tr>\n",
       "    <tr>\n",
       "      <th>6</th>\n",
       "      <td>G</td>\n",
       "      <td>C</td>\n",
       "      <td>G</td>\n",
       "      <td>C</td>\n",
       "      <td>65</td>\n",
       "    </tr>\n",
       "    <tr>\n",
       "      <th>7</th>\n",
       "      <td>C</td>\n",
       "      <td>G</td>\n",
       "      <td>C</td>\n",
       "      <td>G</td>\n",
       "      <td>64</td>\n",
       "    </tr>\n",
       "    <tr>\n",
       "      <th>8</th>\n",
       "      <td>A</td>\n",
       "      <td>D</td>\n",
       "      <td>E</td>\n",
       "      <td>A</td>\n",
       "      <td>64</td>\n",
       "    </tr>\n",
       "    <tr>\n",
       "      <th>9</th>\n",
       "      <td>E</td>\n",
       "      <td>A</td>\n",
       "      <td>E</td>\n",
       "      <td>A</td>\n",
       "      <td>62</td>\n",
       "    </tr>\n",
       "    <tr>\n",
       "      <th>10</th>\n",
       "      <td>G</td>\n",
       "      <td>A</td>\n",
       "      <td>D</td>\n",
       "      <td>G</td>\n",
       "      <td>56</td>\n",
       "    </tr>\n",
       "    <tr>\n",
       "      <th>11</th>\n",
       "      <td>D</td>\n",
       "      <td>G</td>\n",
       "      <td>A</td>\n",
       "      <td>D</td>\n",
       "      <td>55</td>\n",
       "    </tr>\n",
       "    <tr>\n",
       "      <th>12</th>\n",
       "      <td>D/5</td>\n",
       "      <td>A</td>\n",
       "      <td>D/5</td>\n",
       "      <td>A</td>\n",
       "      <td>55</td>\n",
       "    </tr>\n",
       "    <tr>\n",
       "      <th>13</th>\n",
       "      <td>D</td>\n",
       "      <td>E</td>\n",
       "      <td>A</td>\n",
       "      <td>D</td>\n",
       "      <td>52</td>\n",
       "    </tr>\n",
       "    <tr>\n",
       "      <th>14</th>\n",
       "      <td>E</td>\n",
       "      <td>A</td>\n",
       "      <td>D</td>\n",
       "      <td>E</td>\n",
       "      <td>47</td>\n",
       "    </tr>\n",
       "    <tr>\n",
       "      <th>15</th>\n",
       "      <td>A</td>\n",
       "      <td>D</td>\n",
       "      <td>G</td>\n",
       "      <td>A</td>\n",
       "      <td>41</td>\n",
       "    </tr>\n",
       "    <tr>\n",
       "      <th>16</th>\n",
       "      <td>G</td>\n",
       "      <td>C</td>\n",
       "      <td>D</td>\n",
       "      <td>G</td>\n",
       "      <td>40</td>\n",
       "    </tr>\n",
       "    <tr>\n",
       "      <th>17</th>\n",
       "      <td>E:min</td>\n",
       "      <td>A:min</td>\n",
       "      <td>E:min</td>\n",
       "      <td>A:min</td>\n",
       "      <td>39</td>\n",
       "    </tr>\n",
       "    <tr>\n",
       "      <th>18</th>\n",
       "      <td>B</td>\n",
       "      <td>E</td>\n",
       "      <td>A</td>\n",
       "      <td>E</td>\n",
       "      <td>33</td>\n",
       "    </tr>\n",
       "    <tr>\n",
       "      <th>19</th>\n",
       "      <td>A:min</td>\n",
       "      <td>E:min</td>\n",
       "      <td>A:min</td>\n",
       "      <td>E:min</td>\n",
       "      <td>32</td>\n",
       "    </tr>\n",
       "  </tbody>\n",
       "</table>\n",
       "</div>"
      ],
      "text/plain": [
       "   chord_1 chord_2 chord_3 chord_4  cnt\n",
       "0        D       G       D       G  122\n",
       "1        D       A       D       A   90\n",
       "2        G       D       G       D   89\n",
       "3        A       D       A       D   81\n",
       "4        A     D/5       A     D/5   76\n",
       "5        A       E       A       E   68\n",
       "6        G       C       G       C   65\n",
       "7        C       G       C       G   64\n",
       "8        A       D       E       A   64\n",
       "9        E       A       E       A   62\n",
       "10       G       A       D       G   56\n",
       "11       D       G       A       D   55\n",
       "12     D/5       A     D/5       A   55\n",
       "13       D       E       A       D   52\n",
       "14       E       A       D       E   47\n",
       "15       A       D       G       A   41\n",
       "16       G       C       D       G   40\n",
       "17   E:min   A:min   E:min   A:min   39\n",
       "18       B       E       A       E   33\n",
       "19   A:min   E:min   A:min   E:min   32"
      ]
     },
     "execution_count": 39,
     "metadata": {},
     "output_type": "execute_result"
    }
   ],
   "source": [
    "# Absolute occurrences of 4-gram observations\n",
    "create_ngram_df(annotation_stats._observation_cnt_4g_abs, name=NAMESPACE, first_n=FIRST_N)\n"
   ]
  },
  {
   "cell_type": "code",
   "execution_count": 40,
   "metadata": {},
   "outputs": [
    {
     "data": {
      "text/html": [
       "<div>\n",
       "<style scoped>\n",
       "    .dataframe tbody tr th:only-of-type {\n",
       "        vertical-align: middle;\n",
       "    }\n",
       "\n",
       "    .dataframe tbody tr th {\n",
       "        vertical-align: top;\n",
       "    }\n",
       "\n",
       "    .dataframe thead th {\n",
       "        text-align: right;\n",
       "    }\n",
       "</style>\n",
       "<table border=\"1\" class=\"dataframe\">\n",
       "  <thead>\n",
       "    <tr style=\"text-align: right;\">\n",
       "      <th></th>\n",
       "      <th>chord_1</th>\n",
       "      <th>chord_2</th>\n",
       "      <th>chord_3</th>\n",
       "      <th>chord_4</th>\n",
       "      <th>cnt</th>\n",
       "    </tr>\n",
       "  </thead>\n",
       "  <tbody>\n",
       "    <tr>\n",
       "      <th>0</th>\n",
       "      <td>D</td>\n",
       "      <td>G</td>\n",
       "      <td>D</td>\n",
       "      <td>G</td>\n",
       "      <td>122</td>\n",
       "    </tr>\n",
       "    <tr>\n",
       "      <th>1</th>\n",
       "      <td>D</td>\n",
       "      <td>A</td>\n",
       "      <td>D</td>\n",
       "      <td>A</td>\n",
       "      <td>90</td>\n",
       "    </tr>\n",
       "    <tr>\n",
       "      <th>2</th>\n",
       "      <td>G</td>\n",
       "      <td>D</td>\n",
       "      <td>G</td>\n",
       "      <td>D</td>\n",
       "      <td>89</td>\n",
       "    </tr>\n",
       "    <tr>\n",
       "      <th>3</th>\n",
       "      <td>A</td>\n",
       "      <td>D</td>\n",
       "      <td>A</td>\n",
       "      <td>D</td>\n",
       "      <td>81</td>\n",
       "    </tr>\n",
       "    <tr>\n",
       "      <th>4</th>\n",
       "      <td>A</td>\n",
       "      <td>D/5</td>\n",
       "      <td>A</td>\n",
       "      <td>D/5</td>\n",
       "      <td>76</td>\n",
       "    </tr>\n",
       "    <tr>\n",
       "      <th>5</th>\n",
       "      <td>A</td>\n",
       "      <td>E</td>\n",
       "      <td>A</td>\n",
       "      <td>E</td>\n",
       "      <td>68</td>\n",
       "    </tr>\n",
       "    <tr>\n",
       "      <th>6</th>\n",
       "      <td>G</td>\n",
       "      <td>C</td>\n",
       "      <td>G</td>\n",
       "      <td>C</td>\n",
       "      <td>65</td>\n",
       "    </tr>\n",
       "    <tr>\n",
       "      <th>7</th>\n",
       "      <td>C</td>\n",
       "      <td>G</td>\n",
       "      <td>C</td>\n",
       "      <td>G</td>\n",
       "      <td>64</td>\n",
       "    </tr>\n",
       "    <tr>\n",
       "      <th>8</th>\n",
       "      <td>A</td>\n",
       "      <td>D</td>\n",
       "      <td>E</td>\n",
       "      <td>A</td>\n",
       "      <td>64</td>\n",
       "    </tr>\n",
       "    <tr>\n",
       "      <th>9</th>\n",
       "      <td>E</td>\n",
       "      <td>A</td>\n",
       "      <td>E</td>\n",
       "      <td>A</td>\n",
       "      <td>62</td>\n",
       "    </tr>\n",
       "    <tr>\n",
       "      <th>10</th>\n",
       "      <td>G</td>\n",
       "      <td>A</td>\n",
       "      <td>D</td>\n",
       "      <td>G</td>\n",
       "      <td>56</td>\n",
       "    </tr>\n",
       "    <tr>\n",
       "      <th>11</th>\n",
       "      <td>D</td>\n",
       "      <td>G</td>\n",
       "      <td>A</td>\n",
       "      <td>D</td>\n",
       "      <td>55</td>\n",
       "    </tr>\n",
       "    <tr>\n",
       "      <th>12</th>\n",
       "      <td>D/5</td>\n",
       "      <td>A</td>\n",
       "      <td>D/5</td>\n",
       "      <td>A</td>\n",
       "      <td>55</td>\n",
       "    </tr>\n",
       "    <tr>\n",
       "      <th>13</th>\n",
       "      <td>D</td>\n",
       "      <td>E</td>\n",
       "      <td>A</td>\n",
       "      <td>D</td>\n",
       "      <td>52</td>\n",
       "    </tr>\n",
       "    <tr>\n",
       "      <th>14</th>\n",
       "      <td>E</td>\n",
       "      <td>A</td>\n",
       "      <td>D</td>\n",
       "      <td>E</td>\n",
       "      <td>47</td>\n",
       "    </tr>\n",
       "    <tr>\n",
       "      <th>15</th>\n",
       "      <td>A</td>\n",
       "      <td>D</td>\n",
       "      <td>G</td>\n",
       "      <td>A</td>\n",
       "      <td>41</td>\n",
       "    </tr>\n",
       "    <tr>\n",
       "      <th>16</th>\n",
       "      <td>G</td>\n",
       "      <td>C</td>\n",
       "      <td>D</td>\n",
       "      <td>G</td>\n",
       "      <td>40</td>\n",
       "    </tr>\n",
       "    <tr>\n",
       "      <th>17</th>\n",
       "      <td>E:min</td>\n",
       "      <td>A:min</td>\n",
       "      <td>E:min</td>\n",
       "      <td>A:min</td>\n",
       "      <td>39</td>\n",
       "    </tr>\n",
       "    <tr>\n",
       "      <th>18</th>\n",
       "      <td>B</td>\n",
       "      <td>E</td>\n",
       "      <td>A</td>\n",
       "      <td>E</td>\n",
       "      <td>33</td>\n",
       "    </tr>\n",
       "    <tr>\n",
       "      <th>19</th>\n",
       "      <td>A:min</td>\n",
       "      <td>E:min</td>\n",
       "      <td>A:min</td>\n",
       "      <td>E:min</td>\n",
       "      <td>32</td>\n",
       "    </tr>\n",
       "  </tbody>\n",
       "</table>\n",
       "</div>"
      ],
      "text/plain": [
       "   chord_1 chord_2 chord_3 chord_4  cnt\n",
       "0        D       G       D       G  122\n",
       "1        D       A       D       A   90\n",
       "2        G       D       G       D   89\n",
       "3        A       D       A       D   81\n",
       "4        A     D/5       A     D/5   76\n",
       "5        A       E       A       E   68\n",
       "6        G       C       G       C   65\n",
       "7        C       G       C       G   64\n",
       "8        A       D       E       A   64\n",
       "9        E       A       E       A   62\n",
       "10       G       A       D       G   56\n",
       "11       D       G       A       D   55\n",
       "12     D/5       A     D/5       A   55\n",
       "13       D       E       A       D   52\n",
       "14       E       A       D       E   47\n",
       "15       A       D       G       A   41\n",
       "16       G       C       D       G   40\n",
       "17   E:min   A:min   E:min   A:min   39\n",
       "18       B       E       A       E   33\n",
       "19   A:min   E:min   A:min   E:min   32"
      ]
     },
     "execution_count": 40,
     "metadata": {},
     "output_type": "execute_result"
    }
   ],
   "source": [
    "# Relative occurrences of 4-gram observations\n",
    "create_ngram_df(annotation_stats._observation_cnt_4g_abs, name=NAMESPACE, first_n=FIRST_N)\n"
   ]
  },
  {
   "cell_type": "code",
   "execution_count": 41,
   "metadata": {},
   "outputs": [
    {
     "data": {
      "image/png": "[encoded data removed]",
      "text/plain": [
       "<Figure size 1080x360 with 2 Axes>"
      ]
     },
     "metadata": {},
     "output_type": "display_data"
    }
   ],
   "source": [
    "fig, ax = plt.subplots(ncols=2, figsize=(15, 5))\n",
    "\n",
    "plot_counter(annotation_stats._observation_cnt_4g_abs,\n",
    "    f\"{DESCRIPTION} 4-grams\", first_n=FIRST_N, show_pcts=False, ax=ax[0],\n",
    "    title=f\"Absolute occurrences of {NAMESPACE} 4-grams in the dataset\", horizontal=True)\n",
    "\n",
    "plot_counter(annotation_stats._observation_cnt_4g_rel,\n",
    "    f\"{DESCRIPTION} 4-grams\", first_n=FIRST_N, show_pcts=False, ax=ax[1],\n",
    "    title=f\"Relative occurrences of {NAMESPACE} 4-grams per annotation\", horizontal=True)\n",
    "\n",
    "plt.tight_layout()"
   ]
  },
  {
   "cell_type": "code",
   "execution_count": null,
   "metadata": {},
   "outputs": [],
   "source": []
  }
 ],
 "metadata": {
  "kernelspec": {
   "display_name": "Python 3.9.11 ('choco')",
   "language": "python",
   "name": "python3"
  },
  "language_info": {
   "codemirror_mode": {
    "name": "ipython",
    "version": 3
   },
   "file_extension": ".py",
   "mimetype": "text/x-python",
   "name": "python",
   "nbconvert_exporter": "python",
   "pygments_lexer": "ipython3",
   "version": "3.9.11"
  },
  "orig_nbformat": 4,
  "vscode": {
   "interpreter": {
    "hash": "9451ea1bf9e02c59b6ca0eabeecd8c422ceaa9dcbba8005fe84a5f52aabda9f4"
   }
  }
 },
 "nbformat": 4,
 "nbformat_minor": 2
}
